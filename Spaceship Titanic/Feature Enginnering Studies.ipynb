{
 "cells": [
  {
   "cell_type": "code",
   "execution_count": 1,
   "id": "06342da6",
   "metadata": {},
   "outputs": [],
   "source": [
    "import pandas as pd\n",
    "import numpy as np\n",
    "import seaborn as sns\n",
    "import matplotlib.pyplot as plt\n",
    "import statsmodels.api as sm\n",
    "\n",
    "from sklearn.impute import SimpleImputer,KNNImputer"
   ]
  },
  {
   "cell_type": "code",
   "execution_count": 34,
   "id": "970b1c3f",
   "metadata": {},
   "outputs": [
    {
     "data": {
      "text/html": [
       "<div>\n",
       "<style scoped>\n",
       "    .dataframe tbody tr th:only-of-type {\n",
       "        vertical-align: middle;\n",
       "    }\n",
       "\n",
       "    .dataframe tbody tr th {\n",
       "        vertical-align: top;\n",
       "    }\n",
       "\n",
       "    .dataframe thead th {\n",
       "        text-align: right;\n",
       "    }\n",
       "</style>\n",
       "<table border=\"1\" class=\"dataframe\">\n",
       "  <thead>\n",
       "    <tr style=\"text-align: right;\">\n",
       "      <th></th>\n",
       "      <th>HomePlanet</th>\n",
       "      <th>CryoSleep</th>\n",
       "      <th>Cabin</th>\n",
       "      <th>Destination</th>\n",
       "      <th>Age</th>\n",
       "      <th>VIP</th>\n",
       "      <th>RoomService</th>\n",
       "      <th>FoodCourt</th>\n",
       "      <th>ShoppingMall</th>\n",
       "      <th>Spa</th>\n",
       "      <th>VRDeck</th>\n",
       "      <th>Name</th>\n",
       "      <th>Transported</th>\n",
       "    </tr>\n",
       "    <tr>\n",
       "      <th>PassengerId</th>\n",
       "      <th></th>\n",
       "      <th></th>\n",
       "      <th></th>\n",
       "      <th></th>\n",
       "      <th></th>\n",
       "      <th></th>\n",
       "      <th></th>\n",
       "      <th></th>\n",
       "      <th></th>\n",
       "      <th></th>\n",
       "      <th></th>\n",
       "      <th></th>\n",
       "      <th></th>\n",
       "    </tr>\n",
       "  </thead>\n",
       "  <tbody>\n",
       "    <tr>\n",
       "      <th>0001_01</th>\n",
       "      <td>Europa</td>\n",
       "      <td>False</td>\n",
       "      <td>B/0/P</td>\n",
       "      <td>TRAPPIST-1e</td>\n",
       "      <td>39.0</td>\n",
       "      <td>False</td>\n",
       "      <td>0.0</td>\n",
       "      <td>0.0</td>\n",
       "      <td>0.0</td>\n",
       "      <td>0.0</td>\n",
       "      <td>0.0</td>\n",
       "      <td>Maham Ofracculy</td>\n",
       "      <td>False</td>\n",
       "    </tr>\n",
       "    <tr>\n",
       "      <th>0002_01</th>\n",
       "      <td>Earth</td>\n",
       "      <td>False</td>\n",
       "      <td>F/0/S</td>\n",
       "      <td>TRAPPIST-1e</td>\n",
       "      <td>24.0</td>\n",
       "      <td>False</td>\n",
       "      <td>109.0</td>\n",
       "      <td>9.0</td>\n",
       "      <td>25.0</td>\n",
       "      <td>549.0</td>\n",
       "      <td>44.0</td>\n",
       "      <td>Juanna Vines</td>\n",
       "      <td>True</td>\n",
       "    </tr>\n",
       "  </tbody>\n",
       "</table>\n",
       "</div>"
      ],
      "text/plain": [
       "            HomePlanet CryoSleep  Cabin  Destination   Age    VIP  \\\n",
       "PassengerId                                                         \n",
       "0001_01         Europa     False  B/0/P  TRAPPIST-1e  39.0  False   \n",
       "0002_01          Earth     False  F/0/S  TRAPPIST-1e  24.0  False   \n",
       "\n",
       "             RoomService  FoodCourt  ShoppingMall    Spa  VRDeck  \\\n",
       "PassengerId                                                        \n",
       "0001_01              0.0        0.0           0.0    0.0     0.0   \n",
       "0002_01            109.0        9.0          25.0  549.0    44.0   \n",
       "\n",
       "                        Name  Transported  \n",
       "PassengerId                                \n",
       "0001_01      Maham Ofracculy        False  \n",
       "0002_01         Juanna Vines         True  "
      ]
     },
     "execution_count": 34,
     "metadata": {},
     "output_type": "execute_result"
    }
   ],
   "source": [
    "df = pd.read_csv(\"data/train.csv\", index_col='PassengerId')\n",
    "df.head(2)"
   ]
  },
  {
   "cell_type": "markdown",
   "id": "b188cf47",
   "metadata": {},
   "source": [
    "# Data Treatment"
   ]
  },
  {
   "cell_type": "code",
   "execution_count": 44,
   "id": "102241ea",
   "metadata": {},
   "outputs": [],
   "source": [
    "def feature_inputer(df:pd.DataFrame) -> pd.DataFrame:\n",
    "    to_mode = ['HomePlanet', 'CryoSleep', 'Destination']\n",
    "\n",
    "    for col in to_mode:\n",
    "        mode_inputer = SimpleImputer(strategy='most_frequent')\n",
    "        df[col] = mode_inputer.fit_transform(df[[col]])\n",
    "\n",
    "    to_median = ['Age', 'RoomService', 'FoodCourt', 'ShoppingMall', 'Spa', 'VRDeck']\n",
    "    for col in to_median:\n",
    "        inputer = SimpleImputer(strategy='median')\n",
    "        df[col] = inputer.fit_transform(df[[col]])\n",
    "    return df\n",
    "    \n",
    "def dtype_memory_reducer(df: pd.DataFrame) -> pd.DataFrame:\n",
    "    df['CryoSleep'] = df['CryoSleep'].astype(bool)\n",
    "    df['VIP'] = df['VIP'].astype(bool)\n",
    "\n",
    "    df['HomePlanet'] = df['HomePlanet'].astype('category')\n",
    "    df['Destination'] = df['Destination'].astype('category')\n",
    "    return df\n",
    "\n",
    "def outliers_to_log(df:pd.DataFrame) -> pd.DataFrame:\n",
    "    to_log = ['RoomService', 'FoodCourt', 'ShoppingMall', 'Spa', 'VRDeck']\n",
    "    for col in to_log:\n",
    "        df[col] = np.log(df[col] + 1)\n",
    "    return df\n",
    "\n",
    "def vip_knn_input(df: pd.DataFrame) -> pd.DataFrame:\n",
    "    inputer = KNNImputer(n_neighbors=5)\n",
    "    df['VIP'] = inputer.fit_transform(df[['VIP','RoomService']])[:,0]\n",
    "    return df\n",
    "\n",
    "def treat_dataset(df:pd.DataFrame) -> pd.DataFrame:\n",
    "    df = feature_inputer(df)\n",
    "    df = vip_knn_input(df)\n",
    "    df = outliers_to_log(df)\n",
    "    df = dtype_memory_reducer(df)\n",
    "    return df"
   ]
  },
  {
   "cell_type": "markdown",
   "id": "8b0cb0d7",
   "metadata": {},
   "source": [
    "# Numeric Features"
   ]
  },
  {
   "cell_type": "code",
   "execution_count": 13,
   "id": "1a2b7e0a",
   "metadata": {},
   "outputs": [
    {
     "data": {
      "text/html": [
       "<div>\n",
       "<style scoped>\n",
       "    .dataframe tbody tr th:only-of-type {\n",
       "        vertical-align: middle;\n",
       "    }\n",
       "\n",
       "    .dataframe tbody tr th {\n",
       "        vertical-align: top;\n",
       "    }\n",
       "\n",
       "    .dataframe thead th {\n",
       "        text-align: right;\n",
       "    }\n",
       "</style>\n",
       "<table border=\"1\" class=\"dataframe\">\n",
       "  <thead>\n",
       "    <tr style=\"text-align: right;\">\n",
       "      <th></th>\n",
       "      <th>Age</th>\n",
       "      <th>RoomService</th>\n",
       "      <th>FoodCourt</th>\n",
       "      <th>ShoppingMall</th>\n",
       "      <th>Spa</th>\n",
       "      <th>VRDeck</th>\n",
       "    </tr>\n",
       "  </thead>\n",
       "  <tbody>\n",
       "    <tr>\n",
       "      <th>Age</th>\n",
       "      <td>1.000000</td>\n",
       "      <td>0.068723</td>\n",
       "      <td>0.130421</td>\n",
       "      <td>0.033133</td>\n",
       "      <td>0.123970</td>\n",
       "      <td>0.101007</td>\n",
       "    </tr>\n",
       "    <tr>\n",
       "      <th>RoomService</th>\n",
       "      <td>0.068723</td>\n",
       "      <td>1.000000</td>\n",
       "      <td>-0.015889</td>\n",
       "      <td>0.054480</td>\n",
       "      <td>0.010080</td>\n",
       "      <td>-0.019581</td>\n",
       "    </tr>\n",
       "    <tr>\n",
       "      <th>FoodCourt</th>\n",
       "      <td>0.130421</td>\n",
       "      <td>-0.015889</td>\n",
       "      <td>1.000000</td>\n",
       "      <td>-0.014228</td>\n",
       "      <td>0.221891</td>\n",
       "      <td>0.227995</td>\n",
       "    </tr>\n",
       "    <tr>\n",
       "      <th>ShoppingMall</th>\n",
       "      <td>0.033133</td>\n",
       "      <td>0.054480</td>\n",
       "      <td>-0.014228</td>\n",
       "      <td>1.000000</td>\n",
       "      <td>0.013879</td>\n",
       "      <td>-0.007322</td>\n",
       "    </tr>\n",
       "    <tr>\n",
       "      <th>Spa</th>\n",
       "      <td>0.123970</td>\n",
       "      <td>0.010080</td>\n",
       "      <td>0.221891</td>\n",
       "      <td>0.013879</td>\n",
       "      <td>1.000000</td>\n",
       "      <td>0.153821</td>\n",
       "    </tr>\n",
       "    <tr>\n",
       "      <th>VRDeck</th>\n",
       "      <td>0.101007</td>\n",
       "      <td>-0.019581</td>\n",
       "      <td>0.227995</td>\n",
       "      <td>-0.007322</td>\n",
       "      <td>0.153821</td>\n",
       "      <td>1.000000</td>\n",
       "    </tr>\n",
       "  </tbody>\n",
       "</table>\n",
       "</div>"
      ],
      "text/plain": [
       "                   Age  RoomService  FoodCourt  ShoppingMall       Spa  \\\n",
       "Age           1.000000     0.068723   0.130421      0.033133  0.123970   \n",
       "RoomService   0.068723     1.000000  -0.015889      0.054480  0.010080   \n",
       "FoodCourt     0.130421    -0.015889   1.000000     -0.014228  0.221891   \n",
       "ShoppingMall  0.033133     0.054480  -0.014228      1.000000  0.013879   \n",
       "Spa           0.123970     0.010080   0.221891      0.013879  1.000000   \n",
       "VRDeck        0.101007    -0.019581   0.227995     -0.007322  0.153821   \n",
       "\n",
       "                VRDeck  \n",
       "Age           0.101007  \n",
       "RoomService  -0.019581  \n",
       "FoodCourt     0.227995  \n",
       "ShoppingMall -0.007322  \n",
       "Spa           0.153821  \n",
       "VRDeck        1.000000  "
      ]
     },
     "execution_count": 13,
     "metadata": {},
     "output_type": "execute_result"
    }
   ],
   "source": [
    "df[['Age', 'RoomService', 'FoodCourt', 'ShoppingMall', 'Spa', 'VRDeck']].corr()"
   ]
  },
  {
   "cell_type": "code",
   "execution_count": 35,
   "id": "0a2c401c",
   "metadata": {},
   "outputs": [
    {
     "ename": "TypeError",
     "evalue": "'NoneType' object is not subscriptable",
     "output_type": "error",
     "traceback": [
      "\u001b[1;31m---------------------------------------------------------------------------\u001b[0m",
      "\u001b[1;31mTypeError\u001b[0m                                 Traceback (most recent call last)",
      "Cell \u001b[1;32mIn [35], line 1\u001b[0m\n\u001b[1;32m----> 1\u001b[0m df \u001b[38;5;241m=\u001b[39m \u001b[43mtreat_dataset\u001b[49m\u001b[43m(\u001b[49m\u001b[43mdf\u001b[49m\u001b[43m)\u001b[49m\n",
      "Cell \u001b[1;32mIn [33], line 35\u001b[0m, in \u001b[0;36mtreat_dataset\u001b[1;34m(df)\u001b[0m\n\u001b[0;32m     33\u001b[0m \u001b[38;5;28;01mdef\u001b[39;00m \u001b[38;5;21mtreat_dataset\u001b[39m(df:pd\u001b[38;5;241m.\u001b[39mDataFrame) \u001b[38;5;241m-\u001b[39m\u001b[38;5;241m>\u001b[39m pd\u001b[38;5;241m.\u001b[39mDataFrame:\n\u001b[0;32m     34\u001b[0m     df \u001b[38;5;241m=\u001b[39m feature_inputer(df)\n\u001b[1;32m---> 35\u001b[0m     df \u001b[38;5;241m=\u001b[39m \u001b[43mvip_knn_input\u001b[49m\u001b[43m(\u001b[49m\u001b[43mdf\u001b[49m\u001b[43m)\u001b[49m\n\u001b[0;32m     36\u001b[0m     df \u001b[38;5;241m=\u001b[39m outliers_to_log(df)\n\u001b[0;32m     37\u001b[0m     df \u001b[38;5;241m=\u001b[39m dtype_memory_reducer(df)\n",
      "Cell \u001b[1;32mIn [33], line 30\u001b[0m, in \u001b[0;36mvip_knn_input\u001b[1;34m(df)\u001b[0m\n\u001b[0;32m     28\u001b[0m to_knn \u001b[38;5;241m=\u001b[39m [\u001b[38;5;124m'\u001b[39m\u001b[38;5;124mVIP\u001b[39m\u001b[38;5;124m'\u001b[39m]\n\u001b[0;32m     29\u001b[0m inputer \u001b[38;5;241m=\u001b[39m KNNImputer(n_neighbors\u001b[38;5;241m=\u001b[39m\u001b[38;5;241m5\u001b[39m)\n\u001b[1;32m---> 30\u001b[0m df[\u001b[38;5;124m'\u001b[39m\u001b[38;5;124mVIP\u001b[39m\u001b[38;5;124m'\u001b[39m] \u001b[38;5;241m=\u001b[39m inputer\u001b[38;5;241m.\u001b[39mfit_transform(\u001b[43mdf\u001b[49m\u001b[43m[\u001b[49m\u001b[43m[\u001b[49m\u001b[38;5;124;43m'\u001b[39;49m\u001b[38;5;124;43mVIP\u001b[39;49m\u001b[38;5;124;43m'\u001b[39;49m\u001b[43m,\u001b[49m\u001b[38;5;124;43m'\u001b[39;49m\u001b[38;5;124;43mRoomService\u001b[39;49m\u001b[38;5;124;43m'\u001b[39;49m\u001b[43m]\u001b[49m\u001b[43m]\u001b[49m)[:,\u001b[38;5;241m0\u001b[39m]\n\u001b[0;32m     31\u001b[0m \u001b[38;5;28;01mreturn\u001b[39;00m df\n",
      "\u001b[1;31mTypeError\u001b[0m: 'NoneType' object is not subscriptable"
     ]
    }
   ],
   "source": [
    "df = treat_dataset(df)"
   ]
  },
  {
   "cell_type": "code",
   "execution_count": 31,
   "id": "70e0e647",
   "metadata": {},
   "outputs": [
    {
     "data": {
      "text/plain": [
       "array([0., 0., 1., ..., 0., 0., 0.])"
      ]
     },
     "execution_count": 31,
     "metadata": {},
     "output_type": "execute_result"
    }
   ],
   "source": [
    "inputer = KNNImputer(n_neighbors=5)\n"
   ]
  },
  {
   "cell_type": "code",
   "execution_count": 20,
   "id": "81769446",
   "metadata": {},
   "outputs": [
    {
     "data": {
      "text/plain": [
       "<AxesSubplot: >"
      ]
     },
     "execution_count": 20,
     "metadata": {},
     "output_type": "execute_result"
    },
    {
     "data": {
      "image/png": "[encoded data removed]",
      "text/plain": [
       "<Figure size 640x480 with 1 Axes>"
      ]
     },
     "metadata": {},
     "output_type": "display_data"
    }
   ],
   "source": [
    "df['Age'].hist()"
   ]
  },
  {
   "cell_type": "code",
   "execution_count": 10,
   "id": "2626f791",
   "metadata": {},
   "outputs": [
    {
     "data": {
      "text/plain": [
       "HomePlanet        1\n",
       "CryoSleep         7\n",
       "Cabin             4\n",
       "Destination       2\n",
       "Age               4\n",
       "VIP               1\n",
       "RoomService       2\n",
       "FoodCourt         6\n",
       "ShoppingMall      6\n",
       "Spa               3\n",
       "VRDeck          188\n",
       "Name              4\n",
       "Transported       0\n",
       "dtype: int64"
      ]
     },
     "execution_count": 10,
     "metadata": {},
     "output_type": "execute_result"
    }
   ],
   "source": [
    "df[df['VRDeck'].isna()].isna().sum()"
   ]
  },
  {
   "cell_type": "markdown",
   "id": "51c25d5d",
   "metadata": {},
   "source": [
    "# Cabin Features\n",
    "The cabin number where the passenger is staying. Takes the form deck/num/side, where side can be either P for Port or S for Starboard."
   ]
  },
  {
   "cell_type": "code",
   "execution_count": 76,
   "id": "723b982c",
   "metadata": {},
   "outputs": [
    {
     "data": {
      "text/plain": [
       "PassengerId\n",
       "0001_01    B\n",
       "0002_01    F\n",
       "0003_01    A\n",
       "0003_02    A\n",
       "0004_01    F\n",
       "          ..\n",
       "9276_01    A\n",
       "9278_01    G\n",
       "9279_01    G\n",
       "9280_01    E\n",
       "9280_02    E\n",
       "Name: deck, Length: 8693, dtype: object"
      ]
     },
     "execution_count": 76,
     "metadata": {},
     "output_type": "execute_result"
    }
   ],
   "source": [
    "cabin_features['deck'].replace(\"T\",\"G\")"
   ]
  },
  {
   "cell_type": "code",
   "execution_count": 77,
   "id": "b6ca1f6a",
   "metadata": {},
   "outputs": [],
   "source": [
    "df = df_train.copy()"
   ]
  },
  {
   "cell_type": "code",
   "execution_count": 85,
   "id": "cb0f4424",
   "metadata": {},
   "outputs": [
    {
     "data": {
      "text/plain": [
       "Destination\n",
       "False    0.503584\n",
       "True     0.505495\n",
       "Name: Transported, dtype: float64"
      ]
     },
     "execution_count": 85,
     "metadata": {},
     "output_type": "execute_result"
    }
   ],
   "source": [
    "df.groupby(df['Destination'].isna())['Transported'].mean()"
   ]
  },
  {
   "cell_type": "code",
   "execution_count": 91,
   "id": "f69df843",
   "metadata": {},
   "outputs": [
    {
     "data": {
      "text/html": [
       "<div>\n",
       "<style scoped>\n",
       "    .dataframe tbody tr th:only-of-type {\n",
       "        vertical-align: middle;\n",
       "    }\n",
       "\n",
       "    .dataframe tbody tr th {\n",
       "        vertical-align: top;\n",
       "    }\n",
       "\n",
       "    .dataframe thead th {\n",
       "        text-align: right;\n",
       "    }\n",
       "</style>\n",
       "<table border=\"1\" class=\"dataframe\">\n",
       "  <thead>\n",
       "    <tr style=\"text-align: right;\">\n",
       "      <th></th>\n",
       "      <th>count</th>\n",
       "      <th>mean</th>\n",
       "    </tr>\n",
       "    <tr>\n",
       "      <th>side</th>\n",
       "      <th></th>\n",
       "      <th></th>\n",
       "    </tr>\n",
       "  </thead>\n",
       "  <tbody>\n",
       "    <tr>\n",
       "      <th>P</th>\n",
       "      <td>4206</td>\n",
       "      <td>0.451260</td>\n",
       "    </tr>\n",
       "    <tr>\n",
       "      <th>S</th>\n",
       "      <td>4288</td>\n",
       "      <td>0.555037</td>\n",
       "    </tr>\n",
       "  </tbody>\n",
       "</table>\n",
       "</div>"
      ],
      "text/plain": [
       "      count      mean\n",
       "side                 \n",
       "P      4206  0.451260\n",
       "S      4288  0.555037"
      ]
     },
     "execution_count": 91,
     "metadata": {},
     "output_type": "execute_result"
    }
   ],
   "source": [
    "df.groupby(['side'])['Transported'].agg(['count','mean'])"
   ]
  },
  {
   "cell_type": "markdown",
   "id": "4e323437",
   "metadata": {},
   "source": [
    "# Bills"
   ]
  },
  {
   "cell_type": "code",
   "execution_count": 23,
   "id": "046ba1df",
   "metadata": {},
   "outputs": [
    {
     "data": {
      "text/html": [
       "<div>\n",
       "<style scoped>\n",
       "    .dataframe tbody tr th:only-of-type {\n",
       "        vertical-align: middle;\n",
       "    }\n",
       "\n",
       "    .dataframe tbody tr th {\n",
       "        vertical-align: top;\n",
       "    }\n",
       "\n",
       "    .dataframe thead th {\n",
       "        text-align: right;\n",
       "    }\n",
       "</style>\n",
       "<table border=\"1\" class=\"dataframe\">\n",
       "  <thead>\n",
       "    <tr style=\"text-align: right;\">\n",
       "      <th></th>\n",
       "      <th>count</th>\n",
       "      <th>mean</th>\n",
       "    </tr>\n",
       "    <tr>\n",
       "      <th>0_bills</th>\n",
       "      <th></th>\n",
       "      <th></th>\n",
       "    </tr>\n",
       "  </thead>\n",
       "  <tbody>\n",
       "    <tr>\n",
       "      <th>False</th>\n",
       "      <td>4930</td>\n",
       "      <td>0.034686</td>\n",
       "    </tr>\n",
       "    <tr>\n",
       "      <th>True</th>\n",
       "      <td>3560</td>\n",
       "      <td>0.007865</td>\n",
       "    </tr>\n",
       "  </tbody>\n",
       "</table>\n",
       "</div>"
      ],
      "text/plain": [
       "         count      mean\n",
       "0_bills                 \n",
       "False     4930  0.034686\n",
       "True      3560  0.007865"
      ]
     },
     "execution_count": 23,
     "metadata": {},
     "output_type": "execute_result"
    }
   ],
   "source": [
    "df['0_bills'] = df[['RoomService', 'FoodCourt', 'ShoppingMall', 'Spa', 'VRDeck']].sum(axis=1) == 0\n",
    "df.groupby('0_bills')['VIP'].agg(['count','mean'])"
   ]
  },
  {
   "cell_type": "code",
   "execution_count": 57,
   "id": "2cb8e681",
   "metadata": {},
   "outputs": [
    {
     "name": "stderr",
     "output_type": "stream",
     "text": [
      "C:\\Users\\gonca\\AppData\\Local\\Temp\\ipykernel_13056\\4167123571.py:1: FutureWarning: The default value of numeric_only in DataFrame.corr is deprecated. In a future version, it will default to False. Select only valid columns or specify the value of numeric_only to silence this warning.\n",
      "  df_train.corr()['0_bills'].sort_values()\n"
     ]
    },
    {
     "data": {
      "text/plain": [
       "RoomService    -0.286793\n",
       "ShoppingMall   -0.243392\n",
       "FoodCourt      -0.241778\n",
       "Spa            -0.233378\n",
       "Age            -0.230221\n",
       "VRDeck         -0.226161\n",
       "Transported     0.481628\n",
       "0_bills         1.000000\n",
       "Name: 0_bills, dtype: float64"
      ]
     },
     "execution_count": 57,
     "metadata": {},
     "output_type": "execute_result"
    }
   ],
   "source": [
    "df_train.corr()['0_bills'].sort_values()"
   ]
  }
 ],
 "metadata": {
  "kernelspec": {
   "display_name": "Python 3 (ipykernel)",
   "language": "python",
   "name": "python3"
  },
  "language_info": {
   "codemirror_mode": {
    "name": "ipython",
    "version": 3
   },
   "file_extension": ".py",
   "mimetype": "text/x-python",
   "name": "python",
   "nbconvert_exporter": "python",
   "pygments_lexer": "ipython3",
   "version": "3.9.2"
  },
  "toc": {
   "base_numbering": 1,
   "nav_menu": {},
   "number_sections": true,
   "sideBar": true,
   "skip_h1_title": false,
   "title_cell": "Table of Contents",
   "title_sidebar": "Contents",
   "toc_cell": false,
   "toc_position": {},
   "toc_section_display": true,
   "toc_window_display": false
  }
 },
 "nbformat": 4,
 "nbformat_minor": 5
}
