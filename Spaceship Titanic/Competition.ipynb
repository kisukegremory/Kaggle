{
 "cells": [
  {
   "cell_type": "code",
   "execution_count": 45,
   "id": "06342da6",
   "metadata": {},
   "outputs": [],
   "source": [
    "import pandas as pd\n",
    "import numpy as np\n",
    "from sklearn.impute import SimpleImputer,KNNImputer"
   ]
  },
  {
   "cell_type": "code",
   "execution_count": 66,
   "id": "970b1c3f",
   "metadata": {},
   "outputs": [
    {
     "data": {
      "text/html": [
       "<div>\n",
       "<style scoped>\n",
       "    .dataframe tbody tr th:only-of-type {\n",
       "        vertical-align: middle;\n",
       "    }\n",
       "\n",
       "    .dataframe tbody tr th {\n",
       "        vertical-align: top;\n",
       "    }\n",
       "\n",
       "    .dataframe thead th {\n",
       "        text-align: right;\n",
       "    }\n",
       "</style>\n",
       "<table border=\"1\" class=\"dataframe\">\n",
       "  <thead>\n",
       "    <tr style=\"text-align: right;\">\n",
       "      <th></th>\n",
       "      <th>HomePlanet</th>\n",
       "      <th>CryoSleep</th>\n",
       "      <th>Cabin</th>\n",
       "      <th>Destination</th>\n",
       "      <th>Age</th>\n",
       "      <th>VIP</th>\n",
       "      <th>RoomService</th>\n",
       "      <th>FoodCourt</th>\n",
       "      <th>ShoppingMall</th>\n",
       "      <th>Spa</th>\n",
       "      <th>VRDeck</th>\n",
       "      <th>Name</th>\n",
       "      <th>Transported</th>\n",
       "    </tr>\n",
       "    <tr>\n",
       "      <th>PassengerId</th>\n",
       "      <th></th>\n",
       "      <th></th>\n",
       "      <th></th>\n",
       "      <th></th>\n",
       "      <th></th>\n",
       "      <th></th>\n",
       "      <th></th>\n",
       "      <th></th>\n",
       "      <th></th>\n",
       "      <th></th>\n",
       "      <th></th>\n",
       "      <th></th>\n",
       "      <th></th>\n",
       "    </tr>\n",
       "  </thead>\n",
       "  <tbody>\n",
       "    <tr>\n",
       "      <th>0001_01</th>\n",
       "      <td>Europa</td>\n",
       "      <td>False</td>\n",
       "      <td>B/0/P</td>\n",
       "      <td>TRAPPIST-1e</td>\n",
       "      <td>39.0</td>\n",
       "      <td>False</td>\n",
       "      <td>0.0</td>\n",
       "      <td>0.0</td>\n",
       "      <td>0.0</td>\n",
       "      <td>0.0</td>\n",
       "      <td>0.0</td>\n",
       "      <td>Maham Ofracculy</td>\n",
       "      <td>False</td>\n",
       "    </tr>\n",
       "    <tr>\n",
       "      <th>0002_01</th>\n",
       "      <td>Earth</td>\n",
       "      <td>False</td>\n",
       "      <td>F/0/S</td>\n",
       "      <td>TRAPPIST-1e</td>\n",
       "      <td>24.0</td>\n",
       "      <td>False</td>\n",
       "      <td>109.0</td>\n",
       "      <td>9.0</td>\n",
       "      <td>25.0</td>\n",
       "      <td>549.0</td>\n",
       "      <td>44.0</td>\n",
       "      <td>Juanna Vines</td>\n",
       "      <td>True</td>\n",
       "    </tr>\n",
       "  </tbody>\n",
       "</table>\n",
       "</div>"
      ],
      "text/plain": [
       "            HomePlanet CryoSleep  Cabin  Destination   Age    VIP  \\\n",
       "PassengerId                                                         \n",
       "0001_01         Europa     False  B/0/P  TRAPPIST-1e  39.0  False   \n",
       "0002_01          Earth     False  F/0/S  TRAPPIST-1e  24.0  False   \n",
       "\n",
       "             RoomService  FoodCourt  ShoppingMall    Spa  VRDeck  \\\n",
       "PassengerId                                                        \n",
       "0001_01              0.0        0.0           0.0    0.0     0.0   \n",
       "0002_01            109.0        9.0          25.0  549.0    44.0   \n",
       "\n",
       "                        Name  Transported  \n",
       "PassengerId                                \n",
       "0001_01      Maham Ofracculy        False  \n",
       "0002_01         Juanna Vines         True  "
      ]
     },
     "execution_count": 66,
     "metadata": {},
     "output_type": "execute_result"
    }
   ],
   "source": [
    "df_train = pd.read_csv(\"data/train.csv\", index_col='PassengerId')\n",
    "df_test = pd.read_csv(\"data/test.csv\", index_col='PassengerId')\n",
    "df_train.head(2)"
   ]
  },
  {
   "cell_type": "markdown",
   "id": "b188cf47",
   "metadata": {},
   "source": [
    "# Data Treatment"
   ]
  },
  {
   "cell_type": "code",
   "execution_count": 47,
   "id": "fcdb7836",
   "metadata": {},
   "outputs": [],
   "source": [
    "def feature_inputer(df:pd.DataFrame) -> pd.DataFrame:\n",
    "    to_mode = ['HomePlanet', 'CryoSleep', 'Destination', 'VIP']\n",
    "\n",
    "    for col in to_mode:\n",
    "        mode_inputer = SimpleImputer(strategy='most_frequent')\n",
    "        df[col] = mode_inputer.fit_transform(df[[col]])\n",
    "\n",
    "    to_median = ['Age', 'RoomService', 'FoodCourt', 'ShoppingMall', 'Spa', 'VRDeck']\n",
    "    for col in to_median:\n",
    "        inputer = SimpleImputer(strategy='median')\n",
    "        df[col] = inputer.fit_transform(df[[col]])\n",
    "    return df\n",
    "\n",
    "def dtype_memory_reducer(df: pd.DataFrame) -> pd.DataFrame:\n",
    "    df['CryoSleep'] = df['CryoSleep'].astype(bool)\n",
    "    df['VIP'] = df['VIP'].astype(bool)\n",
    "\n",
    "    df['HomePlanet'] = df['HomePlanet'].astype('category')\n",
    "    df['Destination'] = df['Destination'].astype('category')\n",
    "    return df\n",
    "\n",
    "def outliers_to_log(df:pd.DataFrame) -> pd.DataFrame:\n",
    "    to_log = ['RoomService', 'FoodCourt', 'ShoppingMall', 'Spa', 'VRDeck']\n",
    "    for col in to_log:\n",
    "        df[col] = np.log(df[col] + 1)\n",
    "    return df\n",
    "\n",
    "def treat_dataset(df:pd.DataFrame) -> pd.DataFrame:\n",
    "    df = df.drop(['Cabin', 'Name'],axis=1)\n",
    "    df = feature_inputer(df)\n",
    "    df = dtype_memory_reducer(df)\n",
    "    df = outliers_to_log(df)\n",
    "    return df"
   ]
  },
  {
   "cell_type": "code",
   "execution_count": 67,
   "id": "72234b06",
   "metadata": {},
   "outputs": [],
   "source": [
    "df_train = treat_dataset(df_train)"
   ]
  },
  {
   "cell_type": "code",
   "execution_count": 49,
   "id": "21174dc4",
   "metadata": {},
   "outputs": [],
   "source": [
    "def feature_enginnering(df: pd.DataFrame) -> pd.DataFrame:\n",
    "    df = pd.get_dummies(df,columns=['HomePlanet','Destination'],drop_first=True)\n",
    "    return df"
   ]
  },
  {
   "cell_type": "code",
   "execution_count": 50,
   "id": "cdb583fb",
   "metadata": {},
   "outputs": [],
   "source": [
    "df_train = feature_enginnering(df_train)"
   ]
  },
  {
   "cell_type": "code",
   "execution_count": 57,
   "id": "47f261e4",
   "metadata": {},
   "outputs": [],
   "source": [
    "X_train,y_train = df_train.drop('Transported',axis=1), df_train['Transported']"
   ]
  },
  {
   "cell_type": "code",
   "execution_count": 52,
   "id": "75f852ad",
   "metadata": {},
   "outputs": [],
   "source": [
    "from sklearn.linear_model import LogisticRegression\n",
    "from sklearn.tree import DecisionTreeClassifier"
   ]
  },
  {
   "cell_type": "markdown",
   "id": "3edcf3b9",
   "metadata": {},
   "source": [
    "## Cross Validation"
   ]
  },
  {
   "cell_type": "code",
   "execution_count": 59,
   "id": "c2576e70",
   "metadata": {},
   "outputs": [],
   "source": [
    "from sklearn.model_selection import cross_val_score\n",
    "\n",
    "def model_evaluation(model,x_train,y_train):\n",
    "    model.fit(x_train, y_train)\n",
    "    scores = cross_val_score(model, x_train, y_train, cv=5, scoring = \"accuracy\")\n",
    "    return {\n",
    "        'model':model,\n",
    "        'score_avg':np.mean(scores),\n",
    "        'score_std':np.std(scores)\n",
    "    }"
   ]
  },
  {
   "cell_type": "code",
   "execution_count": 60,
   "id": "ca74d783",
   "metadata": {},
   "outputs": [],
   "source": [
    "log_reg = LogisticRegression(max_iter=1000)\n",
    "dec_tree = DecisionTreeClassifier(min_samples_leaf=30)\n",
    "\n",
    "models = [log_reg,dec_tree]"
   ]
  },
  {
   "cell_type": "code",
   "execution_count": 61,
   "id": "02ff277f",
   "metadata": {},
   "outputs": [
    {
     "data": {
      "text/html": [
       "<div>\n",
       "<style scoped>\n",
       "    .dataframe tbody tr th:only-of-type {\n",
       "        vertical-align: middle;\n",
       "    }\n",
       "\n",
       "    .dataframe tbody tr th {\n",
       "        vertical-align: top;\n",
       "    }\n",
       "\n",
       "    .dataframe thead th {\n",
       "        text-align: right;\n",
       "    }\n",
       "</style>\n",
       "<table border=\"1\" class=\"dataframe\">\n",
       "  <thead>\n",
       "    <tr style=\"text-align: right;\">\n",
       "      <th></th>\n",
       "      <th>model</th>\n",
       "      <th>score_avg</th>\n",
       "      <th>score_std</th>\n",
       "    </tr>\n",
       "  </thead>\n",
       "  <tbody>\n",
       "    <tr>\n",
       "      <th>0</th>\n",
       "      <td>LogisticRegression(max_iter=1000)</td>\n",
       "      <td>0.771197</td>\n",
       "      <td>0.006580</td>\n",
       "    </tr>\n",
       "    <tr>\n",
       "      <th>1</th>\n",
       "      <td>DecisionTreeClassifier(min_samples_leaf=30)</td>\n",
       "      <td>0.783622</td>\n",
       "      <td>0.011759</td>\n",
       "    </tr>\n",
       "  </tbody>\n",
       "</table>\n",
       "</div>"
      ],
      "text/plain": [
       "                                         model  score_avg  score_std\n",
       "0            LogisticRegression(max_iter=1000)   0.771197   0.006580\n",
       "1  DecisionTreeClassifier(min_samples_leaf=30)   0.783622   0.011759"
      ]
     },
     "execution_count": 61,
     "metadata": {},
     "output_type": "execute_result"
    }
   ],
   "source": [
    "df_eva = [model_evaluation(model,X_train,y_train) for model in models]\n",
    "pd.DataFrame(df_eva)"
   ]
  },
  {
   "cell_type": "code",
   "execution_count": 68,
   "id": "d8195672",
   "metadata": {},
   "outputs": [
    {
     "data": {
      "text/html": [
       "<div>\n",
       "<style scoped>\n",
       "    .dataframe tbody tr th:only-of-type {\n",
       "        vertical-align: middle;\n",
       "    }\n",
       "\n",
       "    .dataframe tbody tr th {\n",
       "        vertical-align: top;\n",
       "    }\n",
       "\n",
       "    .dataframe thead th {\n",
       "        text-align: right;\n",
       "    }\n",
       "</style>\n",
       "<table border=\"1\" class=\"dataframe\">\n",
       "  <thead>\n",
       "    <tr style=\"text-align: right;\">\n",
       "      <th></th>\n",
       "      <th>CryoSleep</th>\n",
       "      <th>Age</th>\n",
       "      <th>VIP</th>\n",
       "      <th>RoomService</th>\n",
       "      <th>FoodCourt</th>\n",
       "      <th>ShoppingMall</th>\n",
       "      <th>Spa</th>\n",
       "      <th>VRDeck</th>\n",
       "      <th>HomePlanet_Europa</th>\n",
       "      <th>HomePlanet_Mars</th>\n",
       "      <th>Destination_PSO J318.5-22</th>\n",
       "      <th>Destination_TRAPPIST-1e</th>\n",
       "    </tr>\n",
       "    <tr>\n",
       "      <th>PassengerId</th>\n",
       "      <th></th>\n",
       "      <th></th>\n",
       "      <th></th>\n",
       "      <th></th>\n",
       "      <th></th>\n",
       "      <th></th>\n",
       "      <th></th>\n",
       "      <th></th>\n",
       "      <th></th>\n",
       "      <th></th>\n",
       "      <th></th>\n",
       "      <th></th>\n",
       "    </tr>\n",
       "  </thead>\n",
       "  <tbody>\n",
       "    <tr>\n",
       "      <th>0013_01</th>\n",
       "      <td>True</td>\n",
       "      <td>27.0</td>\n",
       "      <td>False</td>\n",
       "      <td>0.0</td>\n",
       "      <td>0.000000</td>\n",
       "      <td>0.0</td>\n",
       "      <td>0.00000</td>\n",
       "      <td>0.0</td>\n",
       "      <td>0</td>\n",
       "      <td>0</td>\n",
       "      <td>0</td>\n",
       "      <td>1</td>\n",
       "    </tr>\n",
       "    <tr>\n",
       "      <th>0018_01</th>\n",
       "      <td>False</td>\n",
       "      <td>19.0</td>\n",
       "      <td>False</td>\n",
       "      <td>0.0</td>\n",
       "      <td>2.302585</td>\n",
       "      <td>0.0</td>\n",
       "      <td>7.94591</td>\n",
       "      <td>0.0</td>\n",
       "      <td>0</td>\n",
       "      <td>0</td>\n",
       "      <td>0</td>\n",
       "      <td>1</td>\n",
       "    </tr>\n",
       "  </tbody>\n",
       "</table>\n",
       "</div>"
      ],
      "text/plain": [
       "             CryoSleep   Age    VIP  RoomService  FoodCourt  ShoppingMall  \\\n",
       "PassengerId                                                                 \n",
       "0013_01           True  27.0  False          0.0   0.000000           0.0   \n",
       "0018_01          False  19.0  False          0.0   2.302585           0.0   \n",
       "\n",
       "                 Spa  VRDeck  HomePlanet_Europa  HomePlanet_Mars  \\\n",
       "PassengerId                                                        \n",
       "0013_01      0.00000     0.0                  0                0   \n",
       "0018_01      7.94591     0.0                  0                0   \n",
       "\n",
       "             Destination_PSO J318.5-22  Destination_TRAPPIST-1e  \n",
       "PassengerId                                                      \n",
       "0013_01                              0                        1  \n",
       "0018_01                              0                        1  "
      ]
     },
     "execution_count": 68,
     "metadata": {},
     "output_type": "execute_result"
    }
   ],
   "source": [
    "X_test = treat_dataset(df_test)\n",
    "X_test = feature_enginnering(X_test)\n",
    "X_test.head(2)"
   ]
  },
  {
   "cell_type": "markdown",
   "id": "dfdddf09",
   "metadata": {},
   "source": [
    "# Submission"
   ]
  },
  {
   "cell_type": "code",
   "execution_count": 71,
   "id": "ee978bc1",
   "metadata": {},
   "outputs": [],
   "source": [
    "model = df_eva[0]['model']\n",
    "y_test = model.predict(X_test)"
   ]
  },
  {
   "cell_type": "code",
   "execution_count": 78,
   "id": "ccf5924b",
   "metadata": {},
   "outputs": [],
   "source": [
    "submission = pd.Series(y_test, index=[X_test.index,]).to_frame('Transported')\n",
    "submission.to_csv('data/submission_logreg_2022-10-29.csv')"
   ]
  }
 ],
 "metadata": {
  "kernelspec": {
   "display_name": "Python 3 (ipykernel)",
   "language": "python",
   "name": "python3"
  },
  "language_info": {
   "codemirror_mode": {
    "name": "ipython",
    "version": 3
   },
   "file_extension": ".py",
   "mimetype": "text/x-python",
   "name": "python",
   "nbconvert_exporter": "python",
   "pygments_lexer": "ipython3",
   "version": "3.9.2"
  },
  "toc": {
   "base_numbering": 1,
   "nav_menu": {},
   "number_sections": true,
   "sideBar": true,
   "skip_h1_title": false,
   "title_cell": "Table of Contents",
   "title_sidebar": "Contents",
   "toc_cell": false,
   "toc_position": {},
   "toc_section_display": true,
   "toc_window_display": false
  }
 },
 "nbformat": 4,
 "nbformat_minor": 5
}
