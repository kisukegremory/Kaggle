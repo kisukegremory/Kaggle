{
 "cells": [
  {
   "cell_type": "code",
   "execution_count": 11,
   "id": "06342da6",
   "metadata": {},
   "outputs": [],
   "source": [
    "import pandas as pd\n",
    "import numpy as np\n",
    "from sklearn.model_selection import train_test_split\n",
    "from sklearn.linear_model import LogisticRegression\n",
    "from sklearn.ensemble import GradientBoostingClassifier\n",
    "from sklearn.metrics import classification_report\n",
    "from sklearn.model_selection import KFold, GridSearchCV, cross_validate\n",
    "from sklearn.pipeline import Pipeline\n",
    "import os"
   ]
  },
  {
   "cell_type": "code",
   "execution_count": 2,
   "id": "970b1c3f",
   "metadata": {},
   "outputs": [
    {
     "data": {
      "text/html": [
       "<div>\n",
       "<style scoped>\n",
       "    .dataframe tbody tr th:only-of-type {\n",
       "        vertical-align: middle;\n",
       "    }\n",
       "\n",
       "    .dataframe tbody tr th {\n",
       "        vertical-align: top;\n",
       "    }\n",
       "\n",
       "    .dataframe thead th {\n",
       "        text-align: right;\n",
       "    }\n",
       "</style>\n",
       "<table border=\"1\" class=\"dataframe\">\n",
       "  <thead>\n",
       "    <tr style=\"text-align: right;\">\n",
       "      <th></th>\n",
       "      <th>HomePlanet</th>\n",
       "      <th>CryoSleep</th>\n",
       "      <th>Cabin</th>\n",
       "      <th>Destination</th>\n",
       "      <th>Age</th>\n",
       "      <th>VIP</th>\n",
       "      <th>RoomService</th>\n",
       "      <th>FoodCourt</th>\n",
       "      <th>ShoppingMall</th>\n",
       "      <th>Spa</th>\n",
       "      <th>VRDeck</th>\n",
       "      <th>Name</th>\n",
       "      <th>Transported</th>\n",
       "    </tr>\n",
       "    <tr>\n",
       "      <th>PassengerId</th>\n",
       "      <th></th>\n",
       "      <th></th>\n",
       "      <th></th>\n",
       "      <th></th>\n",
       "      <th></th>\n",
       "      <th></th>\n",
       "      <th></th>\n",
       "      <th></th>\n",
       "      <th></th>\n",
       "      <th></th>\n",
       "      <th></th>\n",
       "      <th></th>\n",
       "      <th></th>\n",
       "    </tr>\n",
       "  </thead>\n",
       "  <tbody>\n",
       "    <tr>\n",
       "      <th>0001_01</th>\n",
       "      <td>Europa</td>\n",
       "      <td>False</td>\n",
       "      <td>B/0/P</td>\n",
       "      <td>TRAPPIST-1e</td>\n",
       "      <td>39.0</td>\n",
       "      <td>False</td>\n",
       "      <td>0.0</td>\n",
       "      <td>0.0</td>\n",
       "      <td>0.0</td>\n",
       "      <td>0.0</td>\n",
       "      <td>0.0</td>\n",
       "      <td>Maham Ofracculy</td>\n",
       "      <td>False</td>\n",
       "    </tr>\n",
       "    <tr>\n",
       "      <th>0002_01</th>\n",
       "      <td>Earth</td>\n",
       "      <td>False</td>\n",
       "      <td>F/0/S</td>\n",
       "      <td>TRAPPIST-1e</td>\n",
       "      <td>24.0</td>\n",
       "      <td>False</td>\n",
       "      <td>109.0</td>\n",
       "      <td>9.0</td>\n",
       "      <td>25.0</td>\n",
       "      <td>549.0</td>\n",
       "      <td>44.0</td>\n",
       "      <td>Juanna Vines</td>\n",
       "      <td>True</td>\n",
       "    </tr>\n",
       "  </tbody>\n",
       "</table>\n",
       "</div>"
      ],
      "text/plain": [
       "            HomePlanet CryoSleep  Cabin  Destination   Age    VIP  \\\n",
       "PassengerId                                                         \n",
       "0001_01         Europa     False  B/0/P  TRAPPIST-1e  39.0  False   \n",
       "0002_01          Earth     False  F/0/S  TRAPPIST-1e  24.0  False   \n",
       "\n",
       "             RoomService  FoodCourt  ShoppingMall    Spa  VRDeck  \\\n",
       "PassengerId                                                        \n",
       "0001_01              0.0        0.0           0.0    0.0     0.0   \n",
       "0002_01            109.0        9.0          25.0  549.0    44.0   \n",
       "\n",
       "                        Name  Transported  \n",
       "PassengerId                                \n",
       "0001_01      Maham Ofracculy        False  \n",
       "0002_01         Juanna Vines         True  "
      ]
     },
     "execution_count": 2,
     "metadata": {},
     "output_type": "execute_result"
    }
   ],
   "source": [
    "df_train = pd.read_csv(\"data/train.csv\", index_col='PassengerId')\n",
    "df_test = pd.read_csv(\"data/test.csv\", index_col='PassengerId')\n",
    "df_train.head(2)"
   ]
  },
  {
   "cell_type": "code",
   "execution_count": 5,
   "id": "85852bce",
   "metadata": {},
   "outputs": [
    {
     "data": {
      "text/html": [
       "<div>\n",
       "<style scoped>\n",
       "    .dataframe tbody tr th:only-of-type {\n",
       "        vertical-align: middle;\n",
       "    }\n",
       "\n",
       "    .dataframe tbody tr th {\n",
       "        vertical-align: top;\n",
       "    }\n",
       "\n",
       "    .dataframe thead th {\n",
       "        text-align: right;\n",
       "    }\n",
       "</style>\n",
       "<table border=\"1\" class=\"dataframe\">\n",
       "  <thead>\n",
       "    <tr style=\"text-align: right;\">\n",
       "      <th></th>\n",
       "      <th>KNN</th>\n",
       "      <th>LR</th>\n",
       "    </tr>\n",
       "    <tr>\n",
       "      <th>PassengerId</th>\n",
       "      <th></th>\n",
       "      <th></th>\n",
       "    </tr>\n",
       "  </thead>\n",
       "  <tbody>\n",
       "    <tr>\n",
       "      <th>0001_01</th>\n",
       "      <td>0.64</td>\n",
       "      <td>0.849722</td>\n",
       "    </tr>\n",
       "    <tr>\n",
       "      <th>0002_01</th>\n",
       "      <td>0.08</td>\n",
       "      <td>0.084764</td>\n",
       "    </tr>\n",
       "  </tbody>\n",
       "</table>\n",
       "</div>"
      ],
      "text/plain": [
       "              KNN        LR\n",
       "PassengerId                \n",
       "0001_01      0.64  0.849722\n",
       "0002_01      0.08  0.084764"
      ]
     },
     "execution_count": 5,
     "metadata": {},
     "output_type": "execute_result"
    }
   ],
   "source": [
    "ensemble_df = pd.concat([\n",
    "    pd.read_csv(f'data/ensemble/{file}',index_col='PassengerId') for file in os.listdir('data/ensemble/')\n",
    "],axis=1)\n",
    "ensemble_df.head(2)"
   ]
  },
  {
   "cell_type": "code",
   "execution_count": 6,
   "id": "79aa7883",
   "metadata": {},
   "outputs": [
    {
     "data": {
      "text/html": [
       "<div>\n",
       "<style scoped>\n",
       "    .dataframe tbody tr th:only-of-type {\n",
       "        vertical-align: middle;\n",
       "    }\n",
       "\n",
       "    .dataframe tbody tr th {\n",
       "        vertical-align: top;\n",
       "    }\n",
       "\n",
       "    .dataframe thead th {\n",
       "        text-align: right;\n",
       "    }\n",
       "</style>\n",
       "<table border=\"1\" class=\"dataframe\">\n",
       "  <thead>\n",
       "    <tr style=\"text-align: right;\">\n",
       "      <th></th>\n",
       "      <th>KNN</th>\n",
       "      <th>LR</th>\n",
       "      <th>Transported</th>\n",
       "    </tr>\n",
       "    <tr>\n",
       "      <th>PassengerId</th>\n",
       "      <th></th>\n",
       "      <th></th>\n",
       "      <th></th>\n",
       "    </tr>\n",
       "  </thead>\n",
       "  <tbody>\n",
       "    <tr>\n",
       "      <th>0001_01</th>\n",
       "      <td>0.64</td>\n",
       "      <td>0.849722</td>\n",
       "      <td>False</td>\n",
       "    </tr>\n",
       "    <tr>\n",
       "      <th>0002_01</th>\n",
       "      <td>0.08</td>\n",
       "      <td>0.084764</td>\n",
       "      <td>True</td>\n",
       "    </tr>\n",
       "    <tr>\n",
       "      <th>0003_01</th>\n",
       "      <td>0.16</td>\n",
       "      <td>0.285502</td>\n",
       "      <td>False</td>\n",
       "    </tr>\n",
       "    <tr>\n",
       "      <th>0003_02</th>\n",
       "      <td>0.36</td>\n",
       "      <td>0.567600</td>\n",
       "      <td>False</td>\n",
       "    </tr>\n",
       "    <tr>\n",
       "      <th>0004_01</th>\n",
       "      <td>0.08</td>\n",
       "      <td>0.206688</td>\n",
       "      <td>True</td>\n",
       "    </tr>\n",
       "  </tbody>\n",
       "</table>\n",
       "</div>"
      ],
      "text/plain": [
       "              KNN        LR  Transported\n",
       "PassengerId                             \n",
       "0001_01      0.64  0.849722        False\n",
       "0002_01      0.08  0.084764         True\n",
       "0003_01      0.16  0.285502        False\n",
       "0003_02      0.36  0.567600        False\n",
       "0004_01      0.08  0.206688         True"
      ]
     },
     "execution_count": 6,
     "metadata": {},
     "output_type": "execute_result"
    }
   ],
   "source": [
    "df = pd.concat([ensemble_df.loc[df_train.index],df_train[['Transported']]],axis=1)\n",
    "df.head()"
   ]
  },
  {
   "cell_type": "markdown",
   "id": "3edcf3b9",
   "metadata": {},
   "source": [
    "# Cross Validation"
   ]
  },
  {
   "cell_type": "code",
   "execution_count": 7,
   "id": "cdb583fb",
   "metadata": {},
   "outputs": [],
   "source": [
    "X, y = df.drop('Transported',axis=1), df['Transported']\n",
    "X_train, X_val, y_train, y_val = train_test_split(\n",
    "    X, y,\n",
    "    test_size=0.2,\n",
    "    random_state=42\n",
    ")"
   ]
  },
  {
   "cell_type": "code",
   "execution_count": 15,
   "id": "1abf097d",
   "metadata": {},
   "outputs": [],
   "source": [
    "pipeline = Pipeline([\n",
    "    ('model', (GradientBoostingClassifier(n_estimators=10000, n_iter_no_change=20, tol=1e-4, validation_fraction=0.1)))\n",
    "])"
   ]
  },
  {
   "cell_type": "code",
   "execution_count": 16,
   "id": "35fd976e",
   "metadata": {},
   "outputs": [],
   "source": [
    "params = {\n",
    "     'model__max_depth': [3, 5, 7, 9],\n",
    "     'model__learning_rate': [0.1,0.01],\n",
    "     'model__subsample': [0.4,0.7,0.9],\n",
    "}"
   ]
  },
  {
   "cell_type": "code",
   "execution_count": 17,
   "id": "85a21f67",
   "metadata": {},
   "outputs": [
    {
     "name": "stdout",
     "output_type": "stream",
     "text": [
      "Fitting 5 folds for each of 24 candidates, totalling 120 fits\n",
      "[CV 1/5] END model__learning_rate=0.1, model__max_depth=3, model__subsample=0.4;, score=(train=0.793, test=0.772) total time=   0.1s\n",
      "[CV 2/5] END model__learning_rate=0.1, model__max_depth=3, model__subsample=0.4;, score=(train=0.791, test=0.793) total time=   0.2s\n",
      "[CV 3/5] END model__learning_rate=0.1, model__max_depth=3, model__subsample=0.4;, score=(train=0.792, test=0.773) total time=   0.1s\n",
      "[CV 4/5] END model__learning_rate=0.1, model__max_depth=3, model__subsample=0.4;, score=(train=0.789, test=0.789) total time=   0.1s\n",
      "[CV 5/5] END model__learning_rate=0.1, model__max_depth=3, model__subsample=0.4;, score=(train=0.791, test=0.785) total time=   0.2s\n",
      "[CV 1/5] END model__learning_rate=0.1, model__max_depth=3, model__subsample=0.7;, score=(train=0.795, test=0.769) total time=   0.2s\n",
      "[CV 2/5] END model__learning_rate=0.1, model__max_depth=3, model__subsample=0.7;, score=(train=0.786, test=0.793) total time=   0.1s\n",
      "[CV 3/5] END model__learning_rate=0.1, model__max_depth=3, model__subsample=0.7;, score=(train=0.798, test=0.776) total time=   0.2s\n",
      "[CV 4/5] END model__learning_rate=0.1, model__max_depth=3, model__subsample=0.7;, score=(train=0.787, test=0.794) total time=   0.2s\n",
      "[CV 5/5] END model__learning_rate=0.1, model__max_depth=3, model__subsample=0.7;, score=(train=0.787, test=0.786) total time=   0.1s\n",
      "[CV 1/5] END model__learning_rate=0.1, model__max_depth=3, model__subsample=0.9;, score=(train=0.795, test=0.771) total time=   0.2s\n",
      "[CV 2/5] END model__learning_rate=0.1, model__max_depth=3, model__subsample=0.9;, score=(train=0.785, test=0.792) total time=   0.2s\n",
      "[CV 3/5] END model__learning_rate=0.1, model__max_depth=3, model__subsample=0.9;, score=(train=0.794, test=0.777) total time=   0.2s\n",
      "[CV 4/5] END model__learning_rate=0.1, model__max_depth=3, model__subsample=0.9;, score=(train=0.788, test=0.794) total time=   0.1s\n",
      "[CV 5/5] END model__learning_rate=0.1, model__max_depth=3, model__subsample=0.9;, score=(train=0.786, test=0.786) total time=   0.1s\n",
      "[CV 1/5] END model__learning_rate=0.1, model__max_depth=5, model__subsample=0.4;, score=(train=0.804, test=0.766) total time=   0.1s\n",
      "[CV 2/5] END model__learning_rate=0.1, model__max_depth=5, model__subsample=0.4;, score=(train=0.797, test=0.794) total time=   0.1s\n",
      "[CV 3/5] END model__learning_rate=0.1, model__max_depth=5, model__subsample=0.4;, score=(train=0.803, test=0.778) total time=   0.1s\n",
      "[CV 4/5] END model__learning_rate=0.1, model__max_depth=5, model__subsample=0.4;, score=(train=0.801, test=0.792) total time=   0.1s\n",
      "[CV 5/5] END model__learning_rate=0.1, model__max_depth=5, model__subsample=0.4;, score=(train=0.802, test=0.772) total time=   0.2s\n",
      "[CV 1/5] END model__learning_rate=0.1, model__max_depth=5, model__subsample=0.7;, score=(train=0.807, test=0.773) total time=   0.2s\n",
      "[CV 2/5] END model__learning_rate=0.1, model__max_depth=5, model__subsample=0.7;, score=(train=0.800, test=0.789) total time=   0.2s\n",
      "[CV 3/5] END model__learning_rate=0.1, model__max_depth=5, model__subsample=0.7;, score=(train=0.806, test=0.770) total time=   0.2s\n",
      "[CV 4/5] END model__learning_rate=0.1, model__max_depth=5, model__subsample=0.7;, score=(train=0.796, test=0.792) total time=   0.1s\n",
      "[CV 5/5] END model__learning_rate=0.1, model__max_depth=5, model__subsample=0.7;, score=(train=0.806, test=0.776) total time=   0.1s\n",
      "[CV 1/5] END model__learning_rate=0.1, model__max_depth=5, model__subsample=0.9;, score=(train=0.803, test=0.771) total time=   0.2s\n",
      "[CV 2/5] END model__learning_rate=0.1, model__max_depth=5, model__subsample=0.9;, score=(train=0.804, test=0.788) total time=   0.3s\n",
      "[CV 3/5] END model__learning_rate=0.1, model__max_depth=5, model__subsample=0.9;, score=(train=0.802, test=0.774) total time=   0.1s\n",
      "[CV 4/5] END model__learning_rate=0.1, model__max_depth=5, model__subsample=0.9;, score=(train=0.799, test=0.795) total time=   0.2s\n",
      "[CV 5/5] END model__learning_rate=0.1, model__max_depth=5, model__subsample=0.9;, score=(train=0.809, test=0.781) total time=   0.3s\n",
      "[CV 1/5] END model__learning_rate=0.1, model__max_depth=7, model__subsample=0.4;, score=(train=0.814, test=0.765) total time=   0.2s\n",
      "[CV 2/5] END model__learning_rate=0.1, model__max_depth=7, model__subsample=0.4;, score=(train=0.813, test=0.782) total time=   0.1s\n",
      "[CV 3/5] END model__learning_rate=0.1, model__max_depth=7, model__subsample=0.4;, score=(train=0.816, test=0.761) total time=   0.1s\n",
      "[CV 4/5] END model__learning_rate=0.1, model__max_depth=7, model__subsample=0.4;, score=(train=0.811, test=0.789) total time=   0.2s\n",
      "[CV 5/5] END model__learning_rate=0.1, model__max_depth=7, model__subsample=0.4;, score=(train=0.818, test=0.768) total time=   0.2s\n",
      "[CV 1/5] END model__learning_rate=0.1, model__max_depth=7, model__subsample=0.7;, score=(train=0.830, test=0.766) total time=   0.3s\n",
      "[CV 2/5] END model__learning_rate=0.1, model__max_depth=7, model__subsample=0.7;, score=(train=0.821, test=0.779) total time=   0.2s\n",
      "[CV 3/5] END model__learning_rate=0.1, model__max_depth=7, model__subsample=0.7;, score=(train=0.834, test=0.764) total time=   0.3s\n",
      "[CV 4/5] END model__learning_rate=0.1, model__max_depth=7, model__subsample=0.7;, score=(train=0.817, test=0.794) total time=   0.2s\n",
      "[CV 5/5] END model__learning_rate=0.1, model__max_depth=7, model__subsample=0.7;, score=(train=0.823, test=0.776) total time=   0.2s\n",
      "[CV 1/5] END model__learning_rate=0.1, model__max_depth=7, model__subsample=0.9;, score=(train=0.825, test=0.765) total time=   0.2s\n",
      "[CV 2/5] END model__learning_rate=0.1, model__max_depth=7, model__subsample=0.9;, score=(train=0.824, test=0.786) total time=   0.2s\n",
      "[CV 3/5] END model__learning_rate=0.1, model__max_depth=7, model__subsample=0.9;, score=(train=0.830, test=0.768) total time=   0.3s\n",
      "[CV 4/5] END model__learning_rate=0.1, model__max_depth=7, model__subsample=0.9;, score=(train=0.823, test=0.783) total time=   0.2s\n",
      "[CV 5/5] END model__learning_rate=0.1, model__max_depth=7, model__subsample=0.9;, score=(train=0.831, test=0.776) total time=   0.3s\n",
      "[CV 1/5] END model__learning_rate=0.1, model__max_depth=9, model__subsample=0.4;, score=(train=0.832, test=0.767) total time=   0.2s\n",
      "[CV 2/5] END model__learning_rate=0.1, model__max_depth=9, model__subsample=0.4;, score=(train=0.829, test=0.785) total time=   0.2s\n",
      "[CV 3/5] END model__learning_rate=0.1, model__max_depth=9, model__subsample=0.4;, score=(train=0.837, test=0.771) total time=   0.2s\n",
      "[CV 4/5] END model__learning_rate=0.1, model__max_depth=9, model__subsample=0.4;, score=(train=0.826, test=0.792) total time=   0.2s\n",
      "[CV 5/5] END model__learning_rate=0.1, model__max_depth=9, model__subsample=0.4;, score=(train=0.834, test=0.760) total time=   0.3s\n",
      "[CV 1/5] END model__learning_rate=0.1, model__max_depth=9, model__subsample=0.7;, score=(train=0.851, test=0.756) total time=   0.3s\n",
      "[CV 2/5] END model__learning_rate=0.1, model__max_depth=9, model__subsample=0.7;, score=(train=0.840, test=0.777) total time=   0.3s\n",
      "[CV 3/5] END model__learning_rate=0.1, model__max_depth=9, model__subsample=0.7;, score=(train=0.852, test=0.763) total time=   0.3s\n",
      "[CV 4/5] END model__learning_rate=0.1, model__max_depth=9, model__subsample=0.7;, score=(train=0.848, test=0.778) total time=   0.4s\n",
      "[CV 5/5] END model__learning_rate=0.1, model__max_depth=9, model__subsample=0.7;, score=(train=0.848, test=0.769) total time=   0.3s\n",
      "[CV 1/5] END model__learning_rate=0.1, model__max_depth=9, model__subsample=0.9;, score=(train=0.855, test=0.756) total time=   0.4s\n",
      "[CV 2/5] END model__learning_rate=0.1, model__max_depth=9, model__subsample=0.9;, score=(train=0.854, test=0.774) total time=   0.3s\n",
      "[CV 3/5] END model__learning_rate=0.1, model__max_depth=9, model__subsample=0.9;, score=(train=0.850, test=0.758) total time=   0.4s\n",
      "[CV 4/5] END model__learning_rate=0.1, model__max_depth=9, model__subsample=0.9;, score=(train=0.848, test=0.776) total time=   0.4s\n",
      "[CV 5/5] END model__learning_rate=0.1, model__max_depth=9, model__subsample=0.9;, score=(train=0.852, test=0.767) total time=   0.3s\n",
      "[CV 1/5] END model__learning_rate=0.01, model__max_depth=3, model__subsample=0.4;, score=(train=0.788, test=0.776) total time=   1.2s\n",
      "[CV 2/5] END model__learning_rate=0.01, model__max_depth=3, model__subsample=0.4;, score=(train=0.785, test=0.792) total time=   1.4s\n"
     ]
    },
    {
     "name": "stdout",
     "output_type": "stream",
     "text": [
      "[CV 3/5] END model__learning_rate=0.01, model__max_depth=3, model__subsample=0.4;, score=(train=0.790, test=0.776) total time=   1.1s\n",
      "[CV 4/5] END model__learning_rate=0.01, model__max_depth=3, model__subsample=0.4;, score=(train=0.785, test=0.794) total time=   1.0s\n",
      "[CV 5/5] END model__learning_rate=0.01, model__max_depth=3, model__subsample=0.4;, score=(train=0.788, test=0.781) total time=   1.1s\n",
      "[CV 1/5] END model__learning_rate=0.01, model__max_depth=3, model__subsample=0.7;, score=(train=0.792, test=0.775) total time=   1.5s\n",
      "[CV 2/5] END model__learning_rate=0.01, model__max_depth=3, model__subsample=0.7;, score=(train=0.784, test=0.791) total time=   1.4s\n",
      "[CV 3/5] END model__learning_rate=0.01, model__max_depth=3, model__subsample=0.7;, score=(train=0.791, test=0.777) total time=   1.7s\n",
      "[CV 4/5] END model__learning_rate=0.01, model__max_depth=3, model__subsample=0.7;, score=(train=0.786, test=0.791) total time=   1.5s\n",
      "[CV 5/5] END model__learning_rate=0.01, model__max_depth=3, model__subsample=0.7;, score=(train=0.788, test=0.783) total time=   1.2s\n",
      "[CV 1/5] END model__learning_rate=0.01, model__max_depth=3, model__subsample=0.9;, score=(train=0.793, test=0.773) total time=   1.7s\n",
      "[CV 2/5] END model__learning_rate=0.01, model__max_depth=3, model__subsample=0.9;, score=(train=0.787, test=0.793) total time=   2.6s\n",
      "[CV 3/5] END model__learning_rate=0.01, model__max_depth=3, model__subsample=0.9;, score=(train=0.791, test=0.772) total time=   1.2s\n",
      "[CV 4/5] END model__learning_rate=0.01, model__max_depth=3, model__subsample=0.9;, score=(train=0.786, test=0.795) total time=   1.8s\n",
      "[CV 5/5] END model__learning_rate=0.01, model__max_depth=3, model__subsample=0.9;, score=(train=0.788, test=0.781) total time=   2.0s\n",
      "[CV 1/5] END model__learning_rate=0.01, model__max_depth=5, model__subsample=0.4;, score=(train=0.799, test=0.773) total time=   1.4s\n",
      "[CV 2/5] END model__learning_rate=0.01, model__max_depth=5, model__subsample=0.4;, score=(train=0.798, test=0.793) total time=   1.7s\n",
      "[CV 3/5] END model__learning_rate=0.01, model__max_depth=5, model__subsample=0.4;, score=(train=0.802, test=0.773) total time=   1.4s\n",
      "[CV 4/5] END model__learning_rate=0.01, model__max_depth=5, model__subsample=0.4;, score=(train=0.795, test=0.793) total time=   1.4s\n",
      "[CV 5/5] END model__learning_rate=0.01, model__max_depth=5, model__subsample=0.4;, score=(train=0.797, test=0.788) total time=   1.4s\n",
      "[CV 1/5] END model__learning_rate=0.01, model__max_depth=5, model__subsample=0.7;, score=(train=0.800, test=0.771) total time=   1.2s\n",
      "[CV 2/5] END model__learning_rate=0.01, model__max_depth=5, model__subsample=0.7;, score=(train=0.792, test=0.795) total time=   1.3s\n",
      "[CV 3/5] END model__learning_rate=0.01, model__max_depth=5, model__subsample=0.7;, score=(train=0.799, test=0.772) total time=   1.3s\n",
      "[CV 4/5] END model__learning_rate=0.01, model__max_depth=5, model__subsample=0.7;, score=(train=0.794, test=0.792) total time=   1.7s\n",
      "[CV 5/5] END model__learning_rate=0.01, model__max_depth=5, model__subsample=0.7;, score=(train=0.795, test=0.785) total time=   1.8s\n",
      "[CV 1/5] END model__learning_rate=0.01, model__max_depth=5, model__subsample=0.9;, score=(train=0.798, test=0.771) total time=   1.2s\n",
      "[CV 2/5] END model__learning_rate=0.01, model__max_depth=5, model__subsample=0.9;, score=(train=0.795, test=0.792) total time=   1.8s\n",
      "[CV 3/5] END model__learning_rate=0.01, model__max_depth=5, model__subsample=0.9;, score=(train=0.801, test=0.772) total time=   2.2s\n",
      "[CV 4/5] END model__learning_rate=0.01, model__max_depth=5, model__subsample=0.9;, score=(train=0.791, test=0.792) total time=   1.3s\n",
      "[CV 5/5] END model__learning_rate=0.01, model__max_depth=5, model__subsample=0.9;, score=(train=0.799, test=0.786) total time=   2.0s\n",
      "[CV 1/5] END model__learning_rate=0.01, model__max_depth=7, model__subsample=0.4;, score=(train=0.809, test=0.771) total time=   1.5s\n",
      "[CV 2/5] END model__learning_rate=0.01, model__max_depth=7, model__subsample=0.4;, score=(train=0.809, test=0.796) total time=   2.2s\n",
      "[CV 3/5] END model__learning_rate=0.01, model__max_depth=7, model__subsample=0.4;, score=(train=0.810, test=0.772) total time=   1.5s\n",
      "[CV 4/5] END model__learning_rate=0.01, model__max_depth=7, model__subsample=0.4;, score=(train=0.808, test=0.791) total time=   1.9s\n",
      "[CV 5/5] END model__learning_rate=0.01, model__max_depth=7, model__subsample=0.4;, score=(train=0.805, test=0.778) total time=   1.4s\n",
      "[CV 1/5] END model__learning_rate=0.01, model__max_depth=7, model__subsample=0.7;, score=(train=0.816, test=0.774) total time=   2.4s\n",
      "[CV 2/5] END model__learning_rate=0.01, model__max_depth=7, model__subsample=0.7;, score=(train=0.814, test=0.789) total time=   2.1s\n",
      "[CV 3/5] END model__learning_rate=0.01, model__max_depth=7, model__subsample=0.7;, score=(train=0.815, test=0.765) total time=   1.8s\n",
      "[CV 4/5] END model__learning_rate=0.01, model__max_depth=7, model__subsample=0.7;, score=(train=0.811, test=0.790) total time=   2.6s\n",
      "[CV 5/5] END model__learning_rate=0.01, model__max_depth=7, model__subsample=0.7;, score=(train=0.811, test=0.779) total time=   1.8s\n",
      "[CV 1/5] END model__learning_rate=0.01, model__max_depth=7, model__subsample=0.9;, score=(train=0.818, test=0.768) total time=   2.3s\n",
      "[CV 2/5] END model__learning_rate=0.01, model__max_depth=7, model__subsample=0.9;, score=(train=0.813, test=0.784) total time=   2.0s\n",
      "[CV 3/5] END model__learning_rate=0.01, model__max_depth=7, model__subsample=0.9;, score=(train=0.822, test=0.771) total time=   3.1s\n",
      "[CV 4/5] END model__learning_rate=0.01, model__max_depth=7, model__subsample=0.9;, score=(train=0.820, test=0.784) total time=   3.0s\n",
      "[CV 5/5] END model__learning_rate=0.01, model__max_depth=7, model__subsample=0.9;, score=(train=0.814, test=0.783) total time=   2.1s\n",
      "[CV 1/5] END model__learning_rate=0.01, model__max_depth=9, model__subsample=0.4;, score=(train=0.823, test=0.769) total time=   2.1s\n",
      "[CV 2/5] END model__learning_rate=0.01, model__max_depth=9, model__subsample=0.4;, score=(train=0.825, test=0.788) total time=   2.5s\n",
      "[CV 3/5] END model__learning_rate=0.01, model__max_depth=9, model__subsample=0.4;, score=(train=0.828, test=0.768) total time=   2.5s\n",
      "[CV 4/5] END model__learning_rate=0.01, model__max_depth=9, model__subsample=0.4;, score=(train=0.821, test=0.788) total time=   2.6s\n",
      "[CV 5/5] END model__learning_rate=0.01, model__max_depth=9, model__subsample=0.4;, score=(train=0.829, test=0.774) total time=   2.4s\n",
      "[CV 1/5] END model__learning_rate=0.01, model__max_depth=9, model__subsample=0.7;, score=(train=0.841, test=0.769) total time=   3.1s\n",
      "[CV 2/5] END model__learning_rate=0.01, model__max_depth=9, model__subsample=0.7;, score=(train=0.840, test=0.782) total time=   3.3s\n",
      "[CV 3/5] END model__learning_rate=0.01, model__max_depth=9, model__subsample=0.7;, score=(train=0.845, test=0.766) total time=   3.1s\n",
      "[CV 4/5] END model__learning_rate=0.01, model__max_depth=9, model__subsample=0.7;, score=(train=0.837, test=0.786) total time=   3.0s\n",
      "[CV 5/5] END model__learning_rate=0.01, model__max_depth=9, model__subsample=0.7;, score=(train=0.838, test=0.777) total time=   2.4s\n",
      "[CV 1/5] END model__learning_rate=0.01, model__max_depth=9, model__subsample=0.9;, score=(train=0.843, test=0.766) total time=   3.3s\n",
      "[CV 2/5] END model__learning_rate=0.01, model__max_depth=9, model__subsample=0.9;, score=(train=0.840, test=0.781) total time=   2.8s\n",
      "[CV 3/5] END model__learning_rate=0.01, model__max_depth=9, model__subsample=0.9;, score=(train=0.839, test=0.770) total time=   3.7s\n",
      "[CV 4/5] END model__learning_rate=0.01, model__max_depth=9, model__subsample=0.9;, score=(train=0.841, test=0.781) total time=   3.8s\n",
      "[CV 5/5] END model__learning_rate=0.01, model__max_depth=9, model__subsample=0.9;, score=(train=0.856, test=0.765) total time=   4.5s\n"
     ]
    },
    {
     "data": {
      "text/html": [
       "<style>#sk-container-id-3 {color: black;background-color: white;}#sk-container-id-3 pre{padding: 0;}#sk-container-id-3 div.sk-toggleable {background-color: white;}#sk-container-id-3 label.sk-toggleable__label {cursor: pointer;display: block;width: 100%;margin-bottom: 0;padding: 0.3em;box-sizing: border-box;text-align: center;}#sk-container-id-3 label.sk-toggleable__label-arrow:before {content: \"▸\";float: left;margin-right: 0.25em;color: #696969;}#sk-container-id-3 label.sk-toggleable__label-arrow:hover:before {color: black;}#sk-container-id-3 div.sk-estimator:hover label.sk-toggleable__label-arrow:before {color: black;}#sk-container-id-3 div.sk-toggleable__content {max-height: 0;max-width: 0;overflow: hidden;text-align: left;background-color: #f0f8ff;}#sk-container-id-3 div.sk-toggleable__content pre {margin: 0.2em;color: black;border-radius: 0.25em;background-color: #f0f8ff;}#sk-container-id-3 input.sk-toggleable__control:checked~div.sk-toggleable__content {max-height: 200px;max-width: 100%;overflow: auto;}#sk-container-id-3 input.sk-toggleable__control:checked~label.sk-toggleable__label-arrow:before {content: \"▾\";}#sk-container-id-3 div.sk-estimator input.sk-toggleable__control:checked~label.sk-toggleable__label {background-color: #d4ebff;}#sk-container-id-3 div.sk-label input.sk-toggleable__control:checked~label.sk-toggleable__label {background-color: #d4ebff;}#sk-container-id-3 input.sk-hidden--visually {border: 0;clip: rect(1px 1px 1px 1px);clip: rect(1px, 1px, 1px, 1px);height: 1px;margin: -1px;overflow: hidden;padding: 0;position: absolute;width: 1px;}#sk-container-id-3 div.sk-estimator {font-family: monospace;background-color: #f0f8ff;border: 1px dotted black;border-radius: 0.25em;box-sizing: border-box;margin-bottom: 0.5em;}#sk-container-id-3 div.sk-estimator:hover {background-color: #d4ebff;}#sk-container-id-3 div.sk-parallel-item::after {content: \"\";width: 100%;border-bottom: 1px solid gray;flex-grow: 1;}#sk-container-id-3 div.sk-label:hover label.sk-toggleable__label {background-color: #d4ebff;}#sk-container-id-3 div.sk-serial::before {content: \"\";position: absolute;border-left: 1px solid gray;box-sizing: border-box;top: 0;bottom: 0;left: 50%;z-index: 0;}#sk-container-id-3 div.sk-serial {display: flex;flex-direction: column;align-items: center;background-color: white;padding-right: 0.2em;padding-left: 0.2em;position: relative;}#sk-container-id-3 div.sk-item {position: relative;z-index: 1;}#sk-container-id-3 div.sk-parallel {display: flex;align-items: stretch;justify-content: center;background-color: white;position: relative;}#sk-container-id-3 div.sk-item::before, #sk-container-id-3 div.sk-parallel-item::before {content: \"\";position: absolute;border-left: 1px solid gray;box-sizing: border-box;top: 0;bottom: 0;left: 50%;z-index: -1;}#sk-container-id-3 div.sk-parallel-item {display: flex;flex-direction: column;z-index: 1;position: relative;background-color: white;}#sk-container-id-3 div.sk-parallel-item:first-child::after {align-self: flex-end;width: 50%;}#sk-container-id-3 div.sk-parallel-item:last-child::after {align-self: flex-start;width: 50%;}#sk-container-id-3 div.sk-parallel-item:only-child::after {width: 0;}#sk-container-id-3 div.sk-dashed-wrapped {border: 1px dashed gray;margin: 0 0.4em 0.5em 0.4em;box-sizing: border-box;padding-bottom: 0.4em;background-color: white;}#sk-container-id-3 div.sk-label label {font-family: monospace;font-weight: bold;display: inline-block;line-height: 1.2em;}#sk-container-id-3 div.sk-label-container {text-align: center;}#sk-container-id-3 div.sk-container {/* jupyter's `normalize.less` sets `[hidden] { display: none; }` but bootstrap.min.css set `[hidden] { display: none !important; }` so we also need the `!important` here to be able to override the default hidden behavior on the sphinx rendered scikit-learn.org. See: https://github.com/scikit-learn/scikit-learn/issues/21755 */display: inline-block !important;position: relative;}#sk-container-id-3 div.sk-text-repr-fallback {display: none;}</style><div id=\"sk-container-id-3\" class=\"sk-top-container\"><div class=\"sk-text-repr-fallback\"><pre>GridSearchCV(cv=KFold(n_splits=5, random_state=42, shuffle=True),\n",
       "             estimator=Pipeline(steps=[(&#x27;model&#x27;,\n",
       "                                        GradientBoostingClassifier(n_estimators=10000,\n",
       "                                                                   n_iter_no_change=20))]),\n",
       "             param_grid={&#x27;model__learning_rate&#x27;: [0.1, 0.01],\n",
       "                         &#x27;model__max_depth&#x27;: [3, 5, 7, 9],\n",
       "                         &#x27;model__subsample&#x27;: [0.4, 0.7, 0.9]},\n",
       "             return_train_score=True, scoring=&#x27;accuracy&#x27;, verbose=3)</pre><b>In a Jupyter environment, please rerun this cell to show the HTML representation or trust the notebook. <br />On GitHub, the HTML representation is unable to render, please try loading this page with nbviewer.org.</b></div><div class=\"sk-container\" hidden><div class=\"sk-item sk-dashed-wrapped\"><div class=\"sk-label-container\"><div class=\"sk-label sk-toggleable\"><input class=\"sk-toggleable__control sk-hidden--visually\" id=\"sk-estimator-id-7\" type=\"checkbox\" ><label for=\"sk-estimator-id-7\" class=\"sk-toggleable__label sk-toggleable__label-arrow\">GridSearchCV</label><div class=\"sk-toggleable__content\"><pre>GridSearchCV(cv=KFold(n_splits=5, random_state=42, shuffle=True),\n",
       "             estimator=Pipeline(steps=[(&#x27;model&#x27;,\n",
       "                                        GradientBoostingClassifier(n_estimators=10000,\n",
       "                                                                   n_iter_no_change=20))]),\n",
       "             param_grid={&#x27;model__learning_rate&#x27;: [0.1, 0.01],\n",
       "                         &#x27;model__max_depth&#x27;: [3, 5, 7, 9],\n",
       "                         &#x27;model__subsample&#x27;: [0.4, 0.7, 0.9]},\n",
       "             return_train_score=True, scoring=&#x27;accuracy&#x27;, verbose=3)</pre></div></div></div><div class=\"sk-parallel\"><div class=\"sk-parallel-item\"><div class=\"sk-item\"><div class=\"sk-label-container\"><div class=\"sk-label sk-toggleable\"><input class=\"sk-toggleable__control sk-hidden--visually\" id=\"sk-estimator-id-8\" type=\"checkbox\" ><label for=\"sk-estimator-id-8\" class=\"sk-toggleable__label sk-toggleable__label-arrow\">estimator: Pipeline</label><div class=\"sk-toggleable__content\"><pre>Pipeline(steps=[(&#x27;model&#x27;,\n",
       "                 GradientBoostingClassifier(n_estimators=10000,\n",
       "                                            n_iter_no_change=20))])</pre></div></div></div><div class=\"sk-serial\"><div class=\"sk-item\"><div class=\"sk-serial\"><div class=\"sk-item\"><div class=\"sk-estimator sk-toggleable\"><input class=\"sk-toggleable__control sk-hidden--visually\" id=\"sk-estimator-id-9\" type=\"checkbox\" ><label for=\"sk-estimator-id-9\" class=\"sk-toggleable__label sk-toggleable__label-arrow\">GradientBoostingClassifier</label><div class=\"sk-toggleable__content\"><pre>GradientBoostingClassifier(n_estimators=10000, n_iter_no_change=20)</pre></div></div></div></div></div></div></div></div></div></div></div></div>"
      ],
      "text/plain": [
       "GridSearchCV(cv=KFold(n_splits=5, random_state=42, shuffle=True),\n",
       "             estimator=Pipeline(steps=[('model',\n",
       "                                        GradientBoostingClassifier(n_estimators=10000,\n",
       "                                                                   n_iter_no_change=20))]),\n",
       "             param_grid={'model__learning_rate': [0.1, 0.01],\n",
       "                         'model__max_depth': [3, 5, 7, 9],\n",
       "                         'model__subsample': [0.4, 0.7, 0.9]},\n",
       "             return_train_score=True, scoring='accuracy', verbose=3)"
      ]
     },
     "execution_count": 17,
     "metadata": {},
     "output_type": "execute_result"
    }
   ],
   "source": [
    "grid = GridSearchCV(\n",
    "    pipeline,\n",
    "    param_grid=params,\n",
    "    scoring='accuracy',\n",
    "    cv=KFold(5, shuffle=True, random_state=42),\n",
    "    verbose=3,\n",
    "    return_train_score=True\n",
    ")\n",
    "grid.fit(X_train, y_train)"
   ]
  },
  {
   "cell_type": "code",
   "execution_count": 18,
   "id": "5b6dcd95",
   "metadata": {},
   "outputs": [
    {
     "data": {
      "text/plain": [
       "mean_train_score    0.789510\n",
       "std_train_score     0.003926\n",
       "mean_test_score     0.784297\n",
       "std_test_score      0.008797\n",
       "Name: 2, dtype: float64"
      ]
     },
     "execution_count": 18,
     "metadata": {},
     "output_type": "execute_result"
    }
   ],
   "source": [
    "pd.DataFrame(grid.cv_results_)[['mean_train_score','std_train_score','mean_test_score','std_test_score']].loc[grid.best_index_]"
   ]
  },
  {
   "cell_type": "code",
   "execution_count": 19,
   "id": "6707d59a",
   "metadata": {},
   "outputs": [
    {
     "name": "stdout",
     "output_type": "stream",
     "text": [
      "              precision    recall  f1-score   support\n",
      "\n",
      "       False       0.79      0.74      0.76       861\n",
      "        True       0.76      0.80      0.78       878\n",
      "\n",
      "    accuracy                           0.77      1739\n",
      "   macro avg       0.77      0.77      0.77      1739\n",
      "weighted avg       0.77      0.77      0.77      1739\n",
      "\n"
     ]
    }
   ],
   "source": [
    "model = grid.best_estimator_\n",
    "print(classification_report(y_val, model.predict(X_val)))"
   ]
  },
  {
   "cell_type": "code",
   "execution_count": 27,
   "id": "3815a316",
   "metadata": {},
   "outputs": [
    {
     "data": {
      "text/plain": [
       "array([0.02193097, 0.97806903])"
      ]
     },
     "execution_count": 27,
     "metadata": {},
     "output_type": "execute_result"
    }
   ],
   "source": [
    "model.steps[0][1].feature_importances_"
   ]
  }
 ],
 "metadata": {
  "kernelspec": {
   "display_name": "Python 3 (ipykernel)",
   "language": "python",
   "name": "python3"
  },
  "language_info": {
   "codemirror_mode": {
    "name": "ipython",
    "version": 3
   },
   "file_extension": ".py",
   "mimetype": "text/x-python",
   "name": "python",
   "nbconvert_exporter": "python",
   "pygments_lexer": "ipython3",
   "version": "3.9.2"
  },
  "toc": {
   "base_numbering": 1,
   "nav_menu": {},
   "number_sections": true,
   "sideBar": true,
   "skip_h1_title": false,
   "title_cell": "Table of Contents",
   "title_sidebar": "Contents",
   "toc_cell": false,
   "toc_position": {},
   "toc_section_display": true,
   "toc_window_display": false
  }
 },
 "nbformat": 4,
 "nbformat_minor": 5
}
