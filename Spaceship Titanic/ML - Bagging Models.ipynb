{
 "cells": [
  {
   "cell_type": "code",
   "execution_count": 1,
   "id": "06342da6",
   "metadata": {},
   "outputs": [],
   "source": [
    "import pandas as pd\n",
    "import numpy as np\n",
    "from sklearn.impute import SimpleImputer,KNNImputer\n",
    "from sklearn.preprocessing import StandardScaler\n",
    "import itertools"
   ]
  },
  {
   "cell_type": "code",
   "execution_count": 2,
   "id": "970b1c3f",
   "metadata": {},
   "outputs": [
    {
     "data": {
      "text/html": [
       "<div>\n",
       "<style scoped>\n",
       "    .dataframe tbody tr th:only-of-type {\n",
       "        vertical-align: middle;\n",
       "    }\n",
       "\n",
       "    .dataframe tbody tr th {\n",
       "        vertical-align: top;\n",
       "    }\n",
       "\n",
       "    .dataframe thead th {\n",
       "        text-align: right;\n",
       "    }\n",
       "</style>\n",
       "<table border=\"1\" class=\"dataframe\">\n",
       "  <thead>\n",
       "    <tr style=\"text-align: right;\">\n",
       "      <th></th>\n",
       "      <th>HomePlanet</th>\n",
       "      <th>CryoSleep</th>\n",
       "      <th>Cabin</th>\n",
       "      <th>Destination</th>\n",
       "      <th>Age</th>\n",
       "      <th>VIP</th>\n",
       "      <th>RoomService</th>\n",
       "      <th>FoodCourt</th>\n",
       "      <th>ShoppingMall</th>\n",
       "      <th>Spa</th>\n",
       "      <th>VRDeck</th>\n",
       "      <th>Name</th>\n",
       "      <th>Transported</th>\n",
       "    </tr>\n",
       "    <tr>\n",
       "      <th>PassengerId</th>\n",
       "      <th></th>\n",
       "      <th></th>\n",
       "      <th></th>\n",
       "      <th></th>\n",
       "      <th></th>\n",
       "      <th></th>\n",
       "      <th></th>\n",
       "      <th></th>\n",
       "      <th></th>\n",
       "      <th></th>\n",
       "      <th></th>\n",
       "      <th></th>\n",
       "      <th></th>\n",
       "    </tr>\n",
       "  </thead>\n",
       "  <tbody>\n",
       "    <tr>\n",
       "      <th>0001_01</th>\n",
       "      <td>Europa</td>\n",
       "      <td>False</td>\n",
       "      <td>B/0/P</td>\n",
       "      <td>TRAPPIST-1e</td>\n",
       "      <td>39.0</td>\n",
       "      <td>False</td>\n",
       "      <td>0.0</td>\n",
       "      <td>0.0</td>\n",
       "      <td>0.0</td>\n",
       "      <td>0.0</td>\n",
       "      <td>0.0</td>\n",
       "      <td>Maham Ofracculy</td>\n",
       "      <td>False</td>\n",
       "    </tr>\n",
       "    <tr>\n",
       "      <th>0002_01</th>\n",
       "      <td>Earth</td>\n",
       "      <td>False</td>\n",
       "      <td>F/0/S</td>\n",
       "      <td>TRAPPIST-1e</td>\n",
       "      <td>24.0</td>\n",
       "      <td>False</td>\n",
       "      <td>109.0</td>\n",
       "      <td>9.0</td>\n",
       "      <td>25.0</td>\n",
       "      <td>549.0</td>\n",
       "      <td>44.0</td>\n",
       "      <td>Juanna Vines</td>\n",
       "      <td>True</td>\n",
       "    </tr>\n",
       "  </tbody>\n",
       "</table>\n",
       "</div>"
      ],
      "text/plain": [
       "            HomePlanet CryoSleep  Cabin  Destination   Age    VIP  \\\n",
       "PassengerId                                                         \n",
       "0001_01         Europa     False  B/0/P  TRAPPIST-1e  39.0  False   \n",
       "0002_01          Earth     False  F/0/S  TRAPPIST-1e  24.0  False   \n",
       "\n",
       "             RoomService  FoodCourt  ShoppingMall    Spa  VRDeck  \\\n",
       "PassengerId                                                        \n",
       "0001_01              0.0        0.0           0.0    0.0     0.0   \n",
       "0002_01            109.0        9.0          25.0  549.0    44.0   \n",
       "\n",
       "                        Name  Transported  \n",
       "PassengerId                                \n",
       "0001_01      Maham Ofracculy        False  \n",
       "0002_01         Juanna Vines         True  "
      ]
     },
     "execution_count": 2,
     "metadata": {},
     "output_type": "execute_result"
    }
   ],
   "source": [
    "df_train = pd.read_csv(\"data/train.csv\", index_col='PassengerId')\n",
    "df_test = pd.read_csv(\"data/test.csv\", index_col='PassengerId')\n",
    "df_train.head(2)"
   ]
  },
  {
   "cell_type": "markdown",
   "id": "b188cf47",
   "metadata": {},
   "source": [
    "# Data Treatment"
   ]
  },
  {
   "cell_type": "code",
   "execution_count": 3,
   "id": "fcdb7836",
   "metadata": {},
   "outputs": [],
   "source": [
    "def feature_inputer(\n",
    "    df:pd.DataFrame,\n",
    "    to_mode = ['HomePlanet', 'CryoSleep', 'Destination', 'VIP'],\n",
    "    to_median = ['Age', 'RoomService', 'FoodCourt', 'ShoppingMall', 'Spa', 'VRDeck']\n",
    ") -> pd.DataFrame:\n",
    "    for col in to_mode:\n",
    "        mode_inputer = SimpleImputer(strategy='most_frequent')\n",
    "        df[col] = mode_inputer.fit_transform(df[[col]])\n",
    "\n",
    "    \n",
    "    for col in to_median:\n",
    "        inputer = SimpleImputer(strategy='median')\n",
    "        df[col] = inputer.fit_transform(df[[col]])\n",
    "    return df\n",
    "\n",
    "def dtype_memory_reducer(df: pd.DataFrame) -> pd.DataFrame:\n",
    "    df['CryoSleep'] = df['CryoSleep'].astype(bool)\n",
    "    df['VIP'] = df['VIP'].astype(bool)\n",
    "\n",
    "    df['HomePlanet'] = df['HomePlanet'].astype('category')\n",
    "    df['Destination'] = df['Destination'].astype('category')\n",
    "    return df\n",
    "\n",
    "def outliers_to_log(df:pd.DataFrame) -> pd.DataFrame:\n",
    "    to_log = ['RoomService', 'FoodCourt', 'ShoppingMall', 'Spa', 'VRDeck']\n",
    "    for col in to_log:\n",
    "        df[col] = np.log(df[col] + 1)\n",
    "    return df\n",
    "\n",
    "def cabin_inputer(df:pd.DataFrame) -> pd.DataFrame:\n",
    "    cabin_features = df['Cabin'].str.split(\"/\",expand=True)[[0,2]].rename(columns={0:'Deck',2:'side'})\n",
    "    df = pd.concat([df,cabin_features],axis=1)\n",
    "    df['Deck'] = df['Deck'].fillna('G').replace(\"T\",\"G\")\n",
    "    df = df.drop(['side','Cabin'],axis=1)\n",
    "    return df\n",
    "\n",
    "def vip_knn_input(df: pd.DataFrame) -> pd.DataFrame:\n",
    "    inputer = KNNImputer(n_neighbors=5)\n",
    "    df['VIP'] = inputer.fit_transform(df[['VIP','RoomService']])[:,0]\n",
    "    return df\n",
    "\n",
    "def treat_dataset(df:pd.DataFrame) -> pd.DataFrame:\n",
    "    df = df.drop(['Name'],axis=1)\n",
    "    df = cabin_inputer(df)\n",
    "    df = feature_inputer(df)\n",
    "    df = vip_knn_input(df)\n",
    "    df['0_bills'] = df[['RoomService', 'FoodCourt', 'ShoppingMall', 'Spa', 'VRDeck']].sum(axis=1) == 0\n",
    "    df = outliers_to_log(df)\n",
    "    df = dtype_memory_reducer(df)\n",
    "    return df\n",
    "\n",
    "def apply_interactions(df:pd.DataFrame):\n",
    "    for x in itertools.combinations(df.columns, 2):\n",
    "        df[f'{x[0]}_{x[1]}'] = df[x[0]]*df[x[1]]\n",
    "    df = df.drop(df.columns[df.nunique() == 1].tolist(),axis=1)\n",
    "    return df\n",
    "\n",
    "def feature_enginnering(df: pd.DataFrame) -> pd.DataFrame:\n",
    "    df = pd.get_dummies(df,columns=['HomePlanet','Destination','Deck'],drop_first=True)\n",
    "    return df"
   ]
  },
  {
   "cell_type": "code",
   "execution_count": 4,
   "id": "cdb583fb",
   "metadata": {},
   "outputs": [],
   "source": [
    "df_train = treat_dataset(df_train.copy())\n",
    "df_train = feature_enginnering(df_train)"
   ]
  },
  {
   "cell_type": "code",
   "execution_count": 5,
   "id": "47f261e4",
   "metadata": {},
   "outputs": [],
   "source": [
    "X_train,y_train = df_train.drop('Transported',axis=1), df_train['Transported']\n",
    "scaler = StandardScaler()\n",
    "X_train = pd.DataFrame(scaler.fit_transform(X_train), columns=X_train.columns)"
   ]
  },
  {
   "cell_type": "code",
   "execution_count": 6,
   "id": "75f852ad",
   "metadata": {},
   "outputs": [],
   "source": [
    "from sklearn.linear_model import LogisticRegression\n",
    "from sklearn.ensemble import RandomForestClassifier\n",
    "from sklearn.neighbors import KNeighborsClassifier"
   ]
  },
  {
   "cell_type": "markdown",
   "id": "3edcf3b9",
   "metadata": {},
   "source": [
    "## Cross Validation"
   ]
  },
  {
   "cell_type": "code",
   "execution_count": 7,
   "id": "c2576e70",
   "metadata": {},
   "outputs": [],
   "source": [
    "from sklearn.model_selection import cross_val_score, KFold\n",
    "\n",
    "def model_evaluation(model,x_train,y_train):\n",
    "    model.fit(x_train, y_train)\n",
    "    scores = cross_val_score(model, x_train, y_train, cv=KFold(5, shuffle=True, random_state=42), scoring = \"accuracy\")\n",
    "    return {\n",
    "        'model':model,\n",
    "        'score_avg':np.mean(scores),\n",
    "        'score_std':np.std(scores)\n",
    "    }"
   ]
  },
  {
   "cell_type": "code",
   "execution_count": 8,
   "id": "ca74d783",
   "metadata": {},
   "outputs": [],
   "source": [
    "models = [\n",
    "    LogisticRegression(max_iter=1000),\n",
    "    #RandomForestClassifier(**{'bootstrap': True,'max_depth': 10,'max_features': 'sqrt','min_samples_leaf': 5,'n_estimators': 200}),\n",
    "    KNeighborsClassifier(**{'metric': 'manhattan', 'n_neighbors': 23, 'weights': 'uniform'}),\n",
    "]"
   ]
  },
  {
   "cell_type": "code",
   "execution_count": 9,
   "id": "02ff277f",
   "metadata": {},
   "outputs": [
    {
     "data": {
      "text/html": [
       "<div>\n",
       "<style scoped>\n",
       "    .dataframe tbody tr th:only-of-type {\n",
       "        vertical-align: middle;\n",
       "    }\n",
       "\n",
       "    .dataframe tbody tr th {\n",
       "        vertical-align: top;\n",
       "    }\n",
       "\n",
       "    .dataframe thead th {\n",
       "        text-align: right;\n",
       "    }\n",
       "</style>\n",
       "<table border=\"1\" class=\"dataframe\">\n",
       "  <thead>\n",
       "    <tr style=\"text-align: right;\">\n",
       "      <th></th>\n",
       "      <th>model</th>\n",
       "      <th>score_avg</th>\n",
       "      <th>score_std</th>\n",
       "    </tr>\n",
       "  </thead>\n",
       "  <tbody>\n",
       "    <tr>\n",
       "      <th>0</th>\n",
       "      <td>LogisticRegression(max_iter=1000)</td>\n",
       "      <td>0.771312</td>\n",
       "      <td>0.008186</td>\n",
       "    </tr>\n",
       "    <tr>\n",
       "      <th>1</th>\n",
       "      <td>KNeighborsClassifier(metric='manhattan', n_nei...</td>\n",
       "      <td>0.784771</td>\n",
       "      <td>0.007396</td>\n",
       "    </tr>\n",
       "  </tbody>\n",
       "</table>\n",
       "</div>"
      ],
      "text/plain": [
       "                                               model  score_avg  score_std\n",
       "0                  LogisticRegression(max_iter=1000)   0.771312   0.008186\n",
       "1  KNeighborsClassifier(metric='manhattan', n_nei...   0.784771   0.007396"
      ]
     },
     "execution_count": 9,
     "metadata": {},
     "output_type": "execute_result"
    }
   ],
   "source": [
    "df_eva = [model_evaluation(model,X_train,y_train) for model in models]\n",
    "pd.DataFrame(df_eva)"
   ]
  },
  {
   "cell_type": "markdown",
   "id": "a899a345",
   "metadata": {},
   "source": [
    "# Remodelling with Bagging"
   ]
  },
  {
   "cell_type": "code",
   "execution_count": 10,
   "id": "97083666",
   "metadata": {},
   "outputs": [
    {
     "data": {
      "text/html": [
       "<div>\n",
       "<style scoped>\n",
       "    .dataframe tbody tr th:only-of-type {\n",
       "        vertical-align: middle;\n",
       "    }\n",
       "\n",
       "    .dataframe tbody tr th {\n",
       "        vertical-align: top;\n",
       "    }\n",
       "\n",
       "    .dataframe thead th {\n",
       "        text-align: right;\n",
       "    }\n",
       "</style>\n",
       "<table border=\"1\" class=\"dataframe\">\n",
       "  <thead>\n",
       "    <tr style=\"text-align: right;\">\n",
       "      <th></th>\n",
       "      <th>Logistic Regression</th>\n",
       "      <th>KNN</th>\n",
       "      <th>Logistic Regression_KNN</th>\n",
       "    </tr>\n",
       "  </thead>\n",
       "  <tbody>\n",
       "    <tr>\n",
       "      <th>0</th>\n",
       "      <td>0.865500</td>\n",
       "      <td>0.652174</td>\n",
       "      <td>0.564456</td>\n",
       "    </tr>\n",
       "    <tr>\n",
       "      <th>1</th>\n",
       "      <td>0.072053</td>\n",
       "      <td>0.304348</td>\n",
       "      <td>0.021929</td>\n",
       "    </tr>\n",
       "  </tbody>\n",
       "</table>\n",
       "</div>"
      ],
      "text/plain": [
       "   Logistic Regression       KNN  Logistic Regression_KNN\n",
       "0             0.865500  0.652174                 0.564456\n",
       "1             0.072053  0.304348                 0.021929"
      ]
     },
     "execution_count": 10,
     "metadata": {},
     "output_type": "execute_result"
    }
   ],
   "source": [
    "X_train_bagging = {\n",
    "'Logistic Regression':df_eva[0]['model'].predict_proba(X_train)[:,1],\n",
    "#'Random Forest':df_eva[1]['model'].predict_proba(X_train)[:,1],\n",
    "'KNN':df_eva[1]['model'].predict_proba(X_train)[:,1],\n",
    "}\n",
    "X_train_bagging = pd.DataFrame(X_train_bagging, X_train.index)\n",
    "X_train_bagging = apply_interactions(X_train_bagging)\n",
    "X_train_bagging.head(2)"
   ]
  },
  {
   "cell_type": "code",
   "execution_count": 11,
   "id": "e1894ed0",
   "metadata": {},
   "outputs": [
    {
     "data": {
      "text/plain": [
       "{'model': LogisticRegression(),\n",
       " 'score_avg': 0.8005297808152643,\n",
       " 'score_std': 0.004927627796781884}"
      ]
     },
     "execution_count": 11,
     "metadata": {},
     "output_type": "execute_result"
    }
   ],
   "source": [
    "bagging_model = LogisticRegression()\n",
    "eva_bagging = model_evaluation(bagging_model,X_train_bagging,y_train)\n",
    "eva_bagging"
   ]
  },
  {
   "cell_type": "code",
   "execution_count": 16,
   "id": "d14dbe02",
   "metadata": {},
   "outputs": [
    {
     "data": {
      "text/plain": [
       "array([[-0.19194945,  5.14277828,  1.37052044]])"
      ]
     },
     "execution_count": 16,
     "metadata": {},
     "output_type": "execute_result"
    }
   ],
   "source": [
    "bagging_model.coef_"
   ]
  },
  {
   "cell_type": "markdown",
   "id": "dfdddf09",
   "metadata": {},
   "source": [
    "# Submission"
   ]
  },
  {
   "cell_type": "code",
   "execution_count": 12,
   "id": "d8195672",
   "metadata": {},
   "outputs": [
    {
     "data": {
      "text/html": [
       "<div>\n",
       "<style scoped>\n",
       "    .dataframe tbody tr th:only-of-type {\n",
       "        vertical-align: middle;\n",
       "    }\n",
       "\n",
       "    .dataframe tbody tr th {\n",
       "        vertical-align: top;\n",
       "    }\n",
       "\n",
       "    .dataframe thead th {\n",
       "        text-align: right;\n",
       "    }\n",
       "</style>\n",
       "<table border=\"1\" class=\"dataframe\">\n",
       "  <thead>\n",
       "    <tr style=\"text-align: right;\">\n",
       "      <th></th>\n",
       "      <th>CryoSleep</th>\n",
       "      <th>Age</th>\n",
       "      <th>VIP</th>\n",
       "      <th>RoomService</th>\n",
       "      <th>FoodCourt</th>\n",
       "      <th>ShoppingMall</th>\n",
       "      <th>Spa</th>\n",
       "      <th>VRDeck</th>\n",
       "      <th>0_bills</th>\n",
       "      <th>HomePlanet_Europa</th>\n",
       "      <th>HomePlanet_Mars</th>\n",
       "      <th>Destination_PSO J318.5-22</th>\n",
       "      <th>Destination_TRAPPIST-1e</th>\n",
       "      <th>Deck_B</th>\n",
       "      <th>Deck_C</th>\n",
       "      <th>Deck_D</th>\n",
       "      <th>Deck_E</th>\n",
       "      <th>Deck_F</th>\n",
       "      <th>Deck_G</th>\n",
       "    </tr>\n",
       "    <tr>\n",
       "      <th>PassengerId</th>\n",
       "      <th></th>\n",
       "      <th></th>\n",
       "      <th></th>\n",
       "      <th></th>\n",
       "      <th></th>\n",
       "      <th></th>\n",
       "      <th></th>\n",
       "      <th></th>\n",
       "      <th></th>\n",
       "      <th></th>\n",
       "      <th></th>\n",
       "      <th></th>\n",
       "      <th></th>\n",
       "      <th></th>\n",
       "      <th></th>\n",
       "      <th></th>\n",
       "      <th></th>\n",
       "      <th></th>\n",
       "      <th></th>\n",
       "    </tr>\n",
       "  </thead>\n",
       "  <tbody>\n",
       "    <tr>\n",
       "      <th>0013_01</th>\n",
       "      <td>1.330443</td>\n",
       "      <td>-0.114147</td>\n",
       "      <td>-0.132689</td>\n",
       "      <td>-0.64483</td>\n",
       "      <td>-0.646513</td>\n",
       "      <td>-0.628742</td>\n",
       "      <td>-0.661615</td>\n",
       "      <td>-0.624214</td>\n",
       "      <td>1.170830</td>\n",
       "      <td>-0.553131</td>\n",
       "      <td>-0.525314</td>\n",
       "      <td>-0.315862</td>\n",
       "      <td>0.634992</td>\n",
       "      <td>-0.30408</td>\n",
       "      <td>-0.300857</td>\n",
       "      <td>-0.244898</td>\n",
       "      <td>-0.341629</td>\n",
       "      <td>-0.714311</td>\n",
       "      <td>1.490179</td>\n",
       "    </tr>\n",
       "    <tr>\n",
       "      <th>0018_01</th>\n",
       "      <td>-0.751630</td>\n",
       "      <td>-0.684313</td>\n",
       "      <td>-0.132689</td>\n",
       "      <td>-0.64483</td>\n",
       "      <td>0.140685</td>\n",
       "      <td>-0.628742</td>\n",
       "      <td>2.226792</td>\n",
       "      <td>-0.624214</td>\n",
       "      <td>-0.854095</td>\n",
       "      <td>-0.553131</td>\n",
       "      <td>-0.525314</td>\n",
       "      <td>-0.315862</td>\n",
       "      <td>0.634992</td>\n",
       "      <td>-0.30408</td>\n",
       "      <td>-0.300857</td>\n",
       "      <td>-0.244898</td>\n",
       "      <td>-0.341629</td>\n",
       "      <td>1.399951</td>\n",
       "      <td>-0.671060</td>\n",
       "    </tr>\n",
       "  </tbody>\n",
       "</table>\n",
       "</div>"
      ],
      "text/plain": [
       "             CryoSleep       Age       VIP  RoomService  FoodCourt  \\\n",
       "PassengerId                                                          \n",
       "0013_01       1.330443 -0.114147 -0.132689     -0.64483  -0.646513   \n",
       "0018_01      -0.751630 -0.684313 -0.132689     -0.64483   0.140685   \n",
       "\n",
       "             ShoppingMall       Spa    VRDeck   0_bills  HomePlanet_Europa  \\\n",
       "PassengerId                                                                  \n",
       "0013_01         -0.628742 -0.661615 -0.624214  1.170830          -0.553131   \n",
       "0018_01         -0.628742  2.226792 -0.624214 -0.854095          -0.553131   \n",
       "\n",
       "             HomePlanet_Mars  Destination_PSO J318.5-22  \\\n",
       "PassengerId                                               \n",
       "0013_01            -0.525314                  -0.315862   \n",
       "0018_01            -0.525314                  -0.315862   \n",
       "\n",
       "             Destination_TRAPPIST-1e   Deck_B    Deck_C    Deck_D    Deck_E  \\\n",
       "PassengerId                                                                   \n",
       "0013_01                     0.634992 -0.30408 -0.300857 -0.244898 -0.341629   \n",
       "0018_01                     0.634992 -0.30408 -0.300857 -0.244898 -0.341629   \n",
       "\n",
       "               Deck_F    Deck_G  \n",
       "PassengerId                      \n",
       "0013_01     -0.714311  1.490179  \n",
       "0018_01      1.399951 -0.671060  "
      ]
     },
     "execution_count": 12,
     "metadata": {},
     "output_type": "execute_result"
    }
   ],
   "source": [
    "X_test = treat_dataset(df_test)\n",
    "X_test = feature_enginnering(X_test)\n",
    "X_test = pd.DataFrame(scaler.fit_transform(X_test), index=X_test.index, columns=X_test.columns)\n",
    "X_test.head(2)"
   ]
  },
  {
   "cell_type": "code",
   "execution_count": 13,
   "id": "38e376d2",
   "metadata": {},
   "outputs": [
    {
     "data": {
      "text/html": [
       "<div>\n",
       "<style scoped>\n",
       "    .dataframe tbody tr th:only-of-type {\n",
       "        vertical-align: middle;\n",
       "    }\n",
       "\n",
       "    .dataframe tbody tr th {\n",
       "        vertical-align: top;\n",
       "    }\n",
       "\n",
       "    .dataframe thead th {\n",
       "        text-align: right;\n",
       "    }\n",
       "</style>\n",
       "<table border=\"1\" class=\"dataframe\">\n",
       "  <thead>\n",
       "    <tr style=\"text-align: right;\">\n",
       "      <th></th>\n",
       "      <th>Logistic Regression</th>\n",
       "      <th>KNN</th>\n",
       "      <th>Logistic Regression_KNN</th>\n",
       "    </tr>\n",
       "    <tr>\n",
       "      <th>PassengerId</th>\n",
       "      <th></th>\n",
       "      <th></th>\n",
       "      <th></th>\n",
       "    </tr>\n",
       "  </thead>\n",
       "  <tbody>\n",
       "    <tr>\n",
       "      <th>0013_01</th>\n",
       "      <td>0.701838</td>\n",
       "      <td>0.565217</td>\n",
       "      <td>0.396691</td>\n",
       "    </tr>\n",
       "    <tr>\n",
       "      <th>0018_01</th>\n",
       "      <td>0.184649</td>\n",
       "      <td>0.130435</td>\n",
       "      <td>0.024085</td>\n",
       "    </tr>\n",
       "  </tbody>\n",
       "</table>\n",
       "</div>"
      ],
      "text/plain": [
       "             Logistic Regression       KNN  Logistic Regression_KNN\n",
       "PassengerId                                                        \n",
       "0013_01                 0.701838  0.565217                 0.396691\n",
       "0018_01                 0.184649  0.130435                 0.024085"
      ]
     },
     "execution_count": 13,
     "metadata": {},
     "output_type": "execute_result"
    }
   ],
   "source": [
    "X_test_bagging = {\n",
    "'Logistic Regression':df_eva[0]['model'].predict_proba(X_test)[:,1],\n",
    "#'Random Forest':df_eva[1]['model'].predict_proba(X_test)[:,1],\n",
    "'KNN':df_eva[1]['model'].predict_proba(X_test)[:,1],\n",
    "}\n",
    "X_test_bagging = pd.DataFrame(X_test_bagging, X_test.index)\n",
    "X_test_bagging = apply_interactions(X_test_bagging)\n",
    "X_test_bagging.head(2)"
   ]
  },
  {
   "cell_type": "code",
   "execution_count": 14,
   "id": "ee978bc1",
   "metadata": {},
   "outputs": [],
   "source": [
    "y_test = bagging_model.predict(X_test_bagging)"
   ]
  },
  {
   "cell_type": "code",
   "execution_count": 15,
   "id": "ccf5924b",
   "metadata": {},
   "outputs": [],
   "source": [
    "submission = pd.Series(y_test, index=[X_test.index]).to_frame('Transported')\n",
    "submission.to_csv('data/submission_bagging_2022-11-05.csv')"
   ]
  },
  {
   "cell_type": "code",
   "execution_count": null,
   "id": "85a21f67",
   "metadata": {},
   "outputs": [],
   "source": []
  }
 ],
 "metadata": {
  "kernelspec": {
   "display_name": "Python 3 (ipykernel)",
   "language": "python",
   "name": "python3"
  },
  "language_info": {
   "codemirror_mode": {
    "name": "ipython",
    "version": 3
   },
   "file_extension": ".py",
   "mimetype": "text/x-python",
   "name": "python",
   "nbconvert_exporter": "python",
   "pygments_lexer": "ipython3",
   "version": "3.9.2"
  },
  "toc": {
   "base_numbering": 1,
   "nav_menu": {},
   "number_sections": true,
   "sideBar": true,
   "skip_h1_title": false,
   "title_cell": "Table of Contents",
   "title_sidebar": "Contents",
   "toc_cell": false,
   "toc_position": {},
   "toc_section_display": true,
   "toc_window_display": false
  }
 },
 "nbformat": 4,
 "nbformat_minor": 5
}
