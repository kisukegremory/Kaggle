{
 "cells": [
  {
   "cell_type": "markdown",
   "id": "2b583315",
   "metadata": {},
   "source": [
    "# K-NN\n",
    "\n",
    "refs: \n",
    "    \n",
    "- PCA: https://towardsdatascience.com/pca-using-python-scikit-learn-e653f8989e60"
   ]
  },
  {
   "cell_type": "code",
   "execution_count": 1,
   "id": "06342da6",
   "metadata": {},
   "outputs": [],
   "source": [
    "import pandas as pd\n",
    "import numpy as np\n",
    "from sklearn.impute import SimpleImputer,KNNImputer"
   ]
  },
  {
   "cell_type": "code",
   "execution_count": 2,
   "id": "970b1c3f",
   "metadata": {},
   "outputs": [
    {
     "data": {
      "text/html": [
       "<div>\n",
       "<style scoped>\n",
       "    .dataframe tbody tr th:only-of-type {\n",
       "        vertical-align: middle;\n",
       "    }\n",
       "\n",
       "    .dataframe tbody tr th {\n",
       "        vertical-align: top;\n",
       "    }\n",
       "\n",
       "    .dataframe thead th {\n",
       "        text-align: right;\n",
       "    }\n",
       "</style>\n",
       "<table border=\"1\" class=\"dataframe\">\n",
       "  <thead>\n",
       "    <tr style=\"text-align: right;\">\n",
       "      <th></th>\n",
       "      <th>HomePlanet</th>\n",
       "      <th>CryoSleep</th>\n",
       "      <th>Cabin</th>\n",
       "      <th>Destination</th>\n",
       "      <th>Age</th>\n",
       "      <th>VIP</th>\n",
       "      <th>RoomService</th>\n",
       "      <th>FoodCourt</th>\n",
       "      <th>ShoppingMall</th>\n",
       "      <th>Spa</th>\n",
       "      <th>VRDeck</th>\n",
       "      <th>Name</th>\n",
       "      <th>Transported</th>\n",
       "    </tr>\n",
       "    <tr>\n",
       "      <th>PassengerId</th>\n",
       "      <th></th>\n",
       "      <th></th>\n",
       "      <th></th>\n",
       "      <th></th>\n",
       "      <th></th>\n",
       "      <th></th>\n",
       "      <th></th>\n",
       "      <th></th>\n",
       "      <th></th>\n",
       "      <th></th>\n",
       "      <th></th>\n",
       "      <th></th>\n",
       "      <th></th>\n",
       "    </tr>\n",
       "  </thead>\n",
       "  <tbody>\n",
       "    <tr>\n",
       "      <th>0001_01</th>\n",
       "      <td>Europa</td>\n",
       "      <td>False</td>\n",
       "      <td>B/0/P</td>\n",
       "      <td>TRAPPIST-1e</td>\n",
       "      <td>39.0</td>\n",
       "      <td>False</td>\n",
       "      <td>0.0</td>\n",
       "      <td>0.0</td>\n",
       "      <td>0.0</td>\n",
       "      <td>0.0</td>\n",
       "      <td>0.0</td>\n",
       "      <td>Maham Ofracculy</td>\n",
       "      <td>False</td>\n",
       "    </tr>\n",
       "    <tr>\n",
       "      <th>0002_01</th>\n",
       "      <td>Earth</td>\n",
       "      <td>False</td>\n",
       "      <td>F/0/S</td>\n",
       "      <td>TRAPPIST-1e</td>\n",
       "      <td>24.0</td>\n",
       "      <td>False</td>\n",
       "      <td>109.0</td>\n",
       "      <td>9.0</td>\n",
       "      <td>25.0</td>\n",
       "      <td>549.0</td>\n",
       "      <td>44.0</td>\n",
       "      <td>Juanna Vines</td>\n",
       "      <td>True</td>\n",
       "    </tr>\n",
       "  </tbody>\n",
       "</table>\n",
       "</div>"
      ],
      "text/plain": [
       "            HomePlanet CryoSleep  Cabin  Destination   Age    VIP  \\\n",
       "PassengerId                                                         \n",
       "0001_01         Europa     False  B/0/P  TRAPPIST-1e  39.0  False   \n",
       "0002_01          Earth     False  F/0/S  TRAPPIST-1e  24.0  False   \n",
       "\n",
       "             RoomService  FoodCourt  ShoppingMall    Spa  VRDeck  \\\n",
       "PassengerId                                                        \n",
       "0001_01              0.0        0.0           0.0    0.0     0.0   \n",
       "0002_01            109.0        9.0          25.0  549.0    44.0   \n",
       "\n",
       "                        Name  Transported  \n",
       "PassengerId                                \n",
       "0001_01      Maham Ofracculy        False  \n",
       "0002_01         Juanna Vines         True  "
      ]
     },
     "execution_count": 2,
     "metadata": {},
     "output_type": "execute_result"
    }
   ],
   "source": [
    "df_train = pd.read_csv(\"data/train.csv\", index_col='PassengerId')\n",
    "df_test = pd.read_csv(\"data/test.csv\", index_col='PassengerId')\n",
    "df_train.head(2)"
   ]
  },
  {
   "cell_type": "markdown",
   "id": "b188cf47",
   "metadata": {},
   "source": [
    "# Data Treatment"
   ]
  },
  {
   "cell_type": "code",
   "execution_count": 4,
   "id": "fcdb7836",
   "metadata": {},
   "outputs": [],
   "source": [
    "def feature_inputer(\n",
    "    df:pd.DataFrame,\n",
    "    to_mode = ['HomePlanet', 'CryoSleep', 'Destination', 'VIP'],\n",
    "    to_median = ['Age', 'RoomService', 'FoodCourt', 'ShoppingMall', 'Spa', 'VRDeck']\n",
    ") -> pd.DataFrame:\n",
    "    for col in to_mode:\n",
    "        mode_inputer = SimpleImputer(strategy='most_frequent')\n",
    "        df[col] = mode_inputer.fit_transform(df[[col]])\n",
    "\n",
    "    \n",
    "    for col in to_median:\n",
    "        inputer = SimpleImputer(strategy='median')\n",
    "        df[col] = inputer.fit_transform(df[[col]])\n",
    "    return df\n",
    "\n",
    "def dtype_memory_reducer(df: pd.DataFrame) -> pd.DataFrame:\n",
    "    df['CryoSleep'] = df['CryoSleep'].astype(bool)\n",
    "    df['VIP'] = df['VIP'].astype(bool)\n",
    "\n",
    "    df['HomePlanet'] = df['HomePlanet'].astype('category')\n",
    "    df['Destination'] = df['Destination'].astype('category')\n",
    "    return df\n",
    "\n",
    "def outliers_to_log(df:pd.DataFrame) -> pd.DataFrame:\n",
    "    to_log = ['RoomService', 'FoodCourt', 'ShoppingMall', 'Spa', 'VRDeck']\n",
    "    for col in to_log:\n",
    "        df[col] = np.log(df[col] + 1)\n",
    "    return df\n",
    "\n",
    "def cabin_inputer(df:pd.DataFrame) -> pd.DataFrame:\n",
    "    cabin_features = df['Cabin'].str.split(\"/\",expand=True)[[0,2]].rename(columns={0:'Deck',2:'side'})\n",
    "    df = pd.concat([df,cabin_features],axis=1)\n",
    "    df['Deck'] = df['Deck'].fillna('G').replace(\"T\",\"G\")\n",
    "    df = df.drop(['side','Cabin'],axis=1)\n",
    "    return df\n",
    "\n",
    "def vip_knn_input(df: pd.DataFrame) -> pd.DataFrame:\n",
    "    inputer = KNNImputer(n_neighbors=5)\n",
    "    df['VIP'] = inputer.fit_transform(df[['VIP','RoomService']])[:,0]\n",
    "    return df\n",
    "\n",
    "def treat_dataset(df:pd.DataFrame) -> pd.DataFrame:\n",
    "    df = df.drop(['Name'],axis=1)\n",
    "    df = cabin_inputer(df)\n",
    "    df = feature_inputer(df)\n",
    "    df = vip_knn_input(df)\n",
    "    df['0_bills'] = df[['RoomService', 'FoodCourt', 'ShoppingMall', 'Spa', 'VRDeck']].sum(axis=1) == 0\n",
    "    df = outliers_to_log(df)\n",
    "    df = dtype_memory_reducer(df)\n",
    "    return df\n",
    "\n",
    "def feature_enginnering(df: pd.DataFrame) -> pd.DataFrame:\n",
    "    df = pd.get_dummies(df,columns=['HomePlanet','Destination','Deck'],drop_first=True)\n",
    "    return df"
   ]
  },
  {
   "cell_type": "code",
   "execution_count": 5,
   "id": "cdb583fb",
   "metadata": {},
   "outputs": [],
   "source": [
    "df_train = treat_dataset(df_train.copy())\n",
    "df_train = feature_enginnering(df_train)"
   ]
  },
  {
   "cell_type": "code",
   "execution_count": 22,
   "id": "47f261e4",
   "metadata": {},
   "outputs": [],
   "source": [
    "X_train,y_train = df_train.drop('Transported',axis=1), df_train['Transported']"
   ]
  },
  {
   "cell_type": "code",
   "execution_count": 51,
   "id": "9a17b94f",
   "metadata": {},
   "outputs": [],
   "source": [
    "from sklearn.decomposition import PCA\n",
    "from sklearn.preprocessing import StandardScaler"
   ]
  },
  {
   "cell_type": "code",
   "execution_count": 52,
   "id": "c4cda808",
   "metadata": {},
   "outputs": [],
   "source": [
    "scaler = StandardScaler()\n",
    "X_train = pd.DataFrame(scaler.fit_transform(X_train), columns=X_train.columns)"
   ]
  },
  {
   "cell_type": "code",
   "execution_count": 8,
   "id": "64fd8139",
   "metadata": {},
   "outputs": [
    {
     "data": {
      "text/html": [
       "<div>\n",
       "<style scoped>\n",
       "    .dataframe tbody tr th:only-of-type {\n",
       "        vertical-align: middle;\n",
       "    }\n",
       "\n",
       "    .dataframe tbody tr th {\n",
       "        vertical-align: top;\n",
       "    }\n",
       "\n",
       "    .dataframe thead th {\n",
       "        text-align: right;\n",
       "    }\n",
       "</style>\n",
       "<table border=\"1\" class=\"dataframe\">\n",
       "  <thead>\n",
       "    <tr style=\"text-align: right;\">\n",
       "      <th></th>\n",
       "      <th>0</th>\n",
       "      <th>1</th>\n",
       "      <th>2</th>\n",
       "      <th>3</th>\n",
       "    </tr>\n",
       "  </thead>\n",
       "  <tbody>\n",
       "    <tr>\n",
       "      <th>0</th>\n",
       "      <td>9.905483</td>\n",
       "      <td>-4.480079</td>\n",
       "      <td>-1.281479</td>\n",
       "      <td>-0.051354</td>\n",
       "    </tr>\n",
       "    <tr>\n",
       "      <th>1</th>\n",
       "      <td>-4.417162</td>\n",
       "      <td>5.091478</td>\n",
       "      <td>2.309835</td>\n",
       "      <td>-2.128652</td>\n",
       "    </tr>\n",
       "    <tr>\n",
       "      <th>2</th>\n",
       "      <td>29.766714</td>\n",
       "      <td>6.442952</td>\n",
       "      <td>-2.408780</td>\n",
       "      <td>-2.764708</td>\n",
       "    </tr>\n",
       "    <tr>\n",
       "      <th>3</th>\n",
       "      <td>4.827569</td>\n",
       "      <td>8.456315</td>\n",
       "      <td>-1.411778</td>\n",
       "      <td>-2.592423</td>\n",
       "    </tr>\n",
       "    <tr>\n",
       "      <th>4</th>\n",
       "      <td>-12.345305</td>\n",
       "      <td>6.101268</td>\n",
       "      <td>4.166905</td>\n",
       "      <td>-2.847150</td>\n",
       "    </tr>\n",
       "    <tr>\n",
       "      <th>...</th>\n",
       "      <td>...</td>\n",
       "      <td>...</td>\n",
       "      <td>...</td>\n",
       "      <td>...</td>\n",
       "    </tr>\n",
       "    <tr>\n",
       "      <th>8688</th>\n",
       "      <td>12.711590</td>\n",
       "      <td>6.654042</td>\n",
       "      <td>-5.179545</td>\n",
       "      <td>-1.908982</td>\n",
       "    </tr>\n",
       "    <tr>\n",
       "      <th>8689</th>\n",
       "      <td>-11.055764</td>\n",
       "      <td>-3.093945</td>\n",
       "      <td>-1.166589</td>\n",
       "      <td>-0.067751</td>\n",
       "    </tr>\n",
       "    <tr>\n",
       "      <th>8690</th>\n",
       "      <td>-2.902550</td>\n",
       "      <td>-1.406388</td>\n",
       "      <td>3.309733</td>\n",
       "      <td>-0.808264</td>\n",
       "    </tr>\n",
       "    <tr>\n",
       "      <th>8691</th>\n",
       "      <td>3.725143</td>\n",
       "      <td>7.344889</td>\n",
       "      <td>-5.296079</td>\n",
       "      <td>0.701592</td>\n",
       "    </tr>\n",
       "    <tr>\n",
       "      <th>8692</th>\n",
       "      <td>15.463518</td>\n",
       "      <td>2.653594</td>\n",
       "      <td>-0.670662</td>\n",
       "      <td>4.087087</td>\n",
       "    </tr>\n",
       "  </tbody>\n",
       "</table>\n",
       "<p>8693 rows × 4 columns</p>\n",
       "</div>"
      ],
      "text/plain": [
       "              0         1         2         3\n",
       "0      9.905483 -4.480079 -1.281479 -0.051354\n",
       "1     -4.417162  5.091478  2.309835 -2.128652\n",
       "2     29.766714  6.442952 -2.408780 -2.764708\n",
       "3      4.827569  8.456315 -1.411778 -2.592423\n",
       "4    -12.345305  6.101268  4.166905 -2.847150\n",
       "...         ...       ...       ...       ...\n",
       "8688  12.711590  6.654042 -5.179545 -1.908982\n",
       "8689 -11.055764 -3.093945 -1.166589 -0.067751\n",
       "8690  -2.902550 -1.406388  3.309733 -0.808264\n",
       "8691   3.725143  7.344889 -5.296079  0.701592\n",
       "8692  15.463518  2.653594 -0.670662  4.087087\n",
       "\n",
       "[8693 rows x 4 columns]"
      ]
     },
     "execution_count": 8,
     "metadata": {},
     "output_type": "execute_result"
    }
   ],
   "source": [
    "X_train = pca.fit_transform(X_train)\n",
    "X_train = pd.DataFrame(X_train)\n",
    "X_train"
   ]
  },
  {
   "cell_type": "code",
   "execution_count": 28,
   "id": "75f852ad",
   "metadata": {},
   "outputs": [],
   "source": [
    "from sklearn.neighbors import KNeighborsClassifier\n",
    "from sklearn.model_selection import KFold, GridSearchCV"
   ]
  },
  {
   "cell_type": "markdown",
   "id": "b89fa378",
   "metadata": {},
   "source": [
    "## Tuning"
   ]
  },
  {
   "cell_type": "code",
   "execution_count": 37,
   "id": "0debe86d",
   "metadata": {},
   "outputs": [],
   "source": [
    "params = {\n",
    "    'n_neighbors' : [22, 23, 24, 25],\n",
    "    'weights' : ['uniform'],\n",
    "    'metric' : ['minkowski','euclidean','manhattan']\n",
    "}"
   ]
  },
  {
   "cell_type": "code",
   "execution_count": 38,
   "id": "50c854fb",
   "metadata": {},
   "outputs": [
    {
     "name": "stdout",
     "output_type": "stream",
     "text": [
      "Fitting 5 folds for each of 12 candidates, totalling 60 fits\n",
      "[CV 1/5] END metric=minkowski, n_neighbors=22, weights=uniform;, score=(train=0.791, test=0.776) total time=   0.0s\n",
      "[CV 2/5] END metric=minkowski, n_neighbors=22, weights=uniform;, score=(train=0.794, test=0.760) total time=   0.0s\n",
      "[CV 3/5] END metric=minkowski, n_neighbors=22, weights=uniform;, score=(train=0.794, test=0.769) total time=   0.0s\n",
      "[CV 4/5] END metric=minkowski, n_neighbors=22, weights=uniform;, score=(train=0.794, test=0.778) total time=   0.0s\n",
      "[CV 5/5] END metric=minkowski, n_neighbors=22, weights=uniform;, score=(train=0.794, test=0.772) total time=   0.0s\n",
      "[CV 1/5] END metric=minkowski, n_neighbors=23, weights=uniform;, score=(train=0.793, test=0.779) total time=   0.0s\n",
      "[CV 2/5] END metric=minkowski, n_neighbors=23, weights=uniform;, score=(train=0.797, test=0.765) total time=   0.0s\n",
      "[CV 3/5] END metric=minkowski, n_neighbors=23, weights=uniform;, score=(train=0.797, test=0.770) total time=   0.0s\n",
      "[CV 4/5] END metric=minkowski, n_neighbors=23, weights=uniform;, score=(train=0.796, test=0.785) total time=   0.0s\n",
      "[CV 5/5] END metric=minkowski, n_neighbors=23, weights=uniform;, score=(train=0.797, test=0.782) total time=   0.0s\n",
      "[CV 1/5] END metric=minkowski, n_neighbors=24, weights=uniform;, score=(train=0.788, test=0.781) total time=   0.0s\n",
      "[CV 2/5] END metric=minkowski, n_neighbors=24, weights=uniform;, score=(train=0.792, test=0.763) total time=   0.0s\n",
      "[CV 3/5] END metric=minkowski, n_neighbors=24, weights=uniform;, score=(train=0.790, test=0.769) total time=   0.0s\n",
      "[CV 4/5] END metric=minkowski, n_neighbors=24, weights=uniform;, score=(train=0.794, test=0.778) total time=   0.0s\n",
      "[CV 5/5] END metric=minkowski, n_neighbors=24, weights=uniform;, score=(train=0.794, test=0.777) total time=   0.0s\n",
      "[CV 1/5] END metric=minkowski, n_neighbors=25, weights=uniform;, score=(train=0.790, test=0.775) total time=   0.0s\n",
      "[CV 2/5] END metric=minkowski, n_neighbors=25, weights=uniform;, score=(train=0.794, test=0.765) total time=   0.0s\n",
      "[CV 3/5] END metric=minkowski, n_neighbors=25, weights=uniform;, score=(train=0.792, test=0.768) total time=   0.0s\n",
      "[CV 4/5] END metric=minkowski, n_neighbors=25, weights=uniform;, score=(train=0.796, test=0.782) total time=   0.0s\n",
      "[CV 5/5] END metric=minkowski, n_neighbors=25, weights=uniform;, score=(train=0.796, test=0.790) total time=   0.0s\n",
      "[CV 1/5] END metric=euclidean, n_neighbors=22, weights=uniform;, score=(train=0.791, test=0.776) total time=   0.0s\n",
      "[CV 2/5] END metric=euclidean, n_neighbors=22, weights=uniform;, score=(train=0.794, test=0.760) total time=   0.0s\n",
      "[CV 3/5] END metric=euclidean, n_neighbors=22, weights=uniform;, score=(train=0.794, test=0.769) total time=   0.0s\n",
      "[CV 4/5] END metric=euclidean, n_neighbors=22, weights=uniform;, score=(train=0.794, test=0.778) total time=   0.0s\n",
      "[CV 5/5] END metric=euclidean, n_neighbors=22, weights=uniform;, score=(train=0.794, test=0.772) total time=   0.0s\n",
      "[CV 1/5] END metric=euclidean, n_neighbors=23, weights=uniform;, score=(train=0.793, test=0.779) total time=   0.0s\n",
      "[CV 2/5] END metric=euclidean, n_neighbors=23, weights=uniform;, score=(train=0.797, test=0.765) total time=   0.0s\n",
      "[CV 3/5] END metric=euclidean, n_neighbors=23, weights=uniform;, score=(train=0.797, test=0.770) total time=   0.0s\n",
      "[CV 4/5] END metric=euclidean, n_neighbors=23, weights=uniform;, score=(train=0.796, test=0.785) total time=   0.0s\n",
      "[CV 5/5] END metric=euclidean, n_neighbors=23, weights=uniform;, score=(train=0.797, test=0.782) total time=   0.0s\n",
      "[CV 1/5] END metric=euclidean, n_neighbors=24, weights=uniform;, score=(train=0.788, test=0.781) total time=   0.0s\n",
      "[CV 2/5] END metric=euclidean, n_neighbors=24, weights=uniform;, score=(train=0.792, test=0.763) total time=   0.0s\n",
      "[CV 3/5] END metric=euclidean, n_neighbors=24, weights=uniform;, score=(train=0.790, test=0.769) total time=   0.0s\n",
      "[CV 4/5] END metric=euclidean, n_neighbors=24, weights=uniform;, score=(train=0.794, test=0.778) total time=   0.0s\n",
      "[CV 5/5] END metric=euclidean, n_neighbors=24, weights=uniform;, score=(train=0.794, test=0.777) total time=   0.0s\n",
      "[CV 1/5] END metric=euclidean, n_neighbors=25, weights=uniform;, score=(train=0.790, test=0.775) total time=   0.0s\n",
      "[CV 2/5] END metric=euclidean, n_neighbors=25, weights=uniform;, score=(train=0.794, test=0.765) total time=   0.0s\n",
      "[CV 3/5] END metric=euclidean, n_neighbors=25, weights=uniform;, score=(train=0.792, test=0.768) total time=   0.0s\n",
      "[CV 4/5] END metric=euclidean, n_neighbors=25, weights=uniform;, score=(train=0.796, test=0.782) total time=   0.0s\n",
      "[CV 5/5] END metric=euclidean, n_neighbors=25, weights=uniform;, score=(train=0.796, test=0.790) total time=   0.0s\n",
      "[CV 1/5] END metric=manhattan, n_neighbors=22, weights=uniform;, score=(train=0.797, test=0.779) total time=   0.0s\n",
      "[CV 2/5] END metric=manhattan, n_neighbors=22, weights=uniform;, score=(train=0.798, test=0.767) total time=   0.0s\n",
      "[CV 3/5] END metric=manhattan, n_neighbors=22, weights=uniform;, score=(train=0.798, test=0.773) total time=   0.0s\n",
      "[CV 4/5] END metric=manhattan, n_neighbors=22, weights=uniform;, score=(train=0.800, test=0.784) total time=   0.0s\n",
      "[CV 5/5] END metric=manhattan, n_neighbors=22, weights=uniform;, score=(train=0.798, test=0.788) total time=   0.0s\n",
      "[CV 1/5] END metric=manhattan, n_neighbors=23, weights=uniform;, score=(train=0.803, test=0.785) total time=   0.0s\n",
      "[CV 2/5] END metric=manhattan, n_neighbors=23, weights=uniform;, score=(train=0.803, test=0.775) total time=   0.0s\n",
      "[CV 3/5] END metric=manhattan, n_neighbors=23, weights=uniform;, score=(train=0.802, test=0.779) total time=   0.0s\n",
      "[CV 4/5] END metric=manhattan, n_neighbors=23, weights=uniform;, score=(train=0.801, test=0.793) total time=   0.0s\n",
      "[CV 5/5] END metric=manhattan, n_neighbors=23, weights=uniform;, score=(train=0.801, test=0.792) total time=   0.0s\n",
      "[CV 1/5] END metric=manhattan, n_neighbors=24, weights=uniform;, score=(train=0.795, test=0.786) total time=   0.0s\n",
      "[CV 2/5] END metric=manhattan, n_neighbors=24, weights=uniform;, score=(train=0.799, test=0.772) total time=   0.0s\n",
      "[CV 3/5] END metric=manhattan, n_neighbors=24, weights=uniform;, score=(train=0.797, test=0.773) total time=   0.0s\n",
      "[CV 4/5] END metric=manhattan, n_neighbors=24, weights=uniform;, score=(train=0.798, test=0.785) total time=   0.0s\n",
      "[CV 5/5] END metric=manhattan, n_neighbors=24, weights=uniform;, score=(train=0.797, test=0.789) total time=   0.0s\n",
      "[CV 1/5] END metric=manhattan, n_neighbors=25, weights=uniform;, score=(train=0.798, test=0.788) total time=   0.0s\n",
      "[CV 2/5] END metric=manhattan, n_neighbors=25, weights=uniform;, score=(train=0.799, test=0.771) total time=   0.0s\n",
      "[CV 3/5] END metric=manhattan, n_neighbors=25, weights=uniform;, score=(train=0.799, test=0.777) total time=   0.0s\n",
      "[CV 4/5] END metric=manhattan, n_neighbors=25, weights=uniform;, score=(train=0.800, test=0.791) total time=   0.0s\n",
      "[CV 5/5] END metric=manhattan, n_neighbors=25, weights=uniform;, score=(train=0.799, test=0.790) total time=   0.0s\n"
     ]
    },
    {
     "data": {
      "text/html": [
       "<style>#sk-container-id-6 {color: black;background-color: white;}#sk-container-id-6 pre{padding: 0;}#sk-container-id-6 div.sk-toggleable {background-color: white;}#sk-container-id-6 label.sk-toggleable__label {cursor: pointer;display: block;width: 100%;margin-bottom: 0;padding: 0.3em;box-sizing: border-box;text-align: center;}#sk-container-id-6 label.sk-toggleable__label-arrow:before {content: \"▸\";float: left;margin-right: 0.25em;color: #696969;}#sk-container-id-6 label.sk-toggleable__label-arrow:hover:before {color: black;}#sk-container-id-6 div.sk-estimator:hover label.sk-toggleable__label-arrow:before {color: black;}#sk-container-id-6 div.sk-toggleable__content {max-height: 0;max-width: 0;overflow: hidden;text-align: left;background-color: #f0f8ff;}#sk-container-id-6 div.sk-toggleable__content pre {margin: 0.2em;color: black;border-radius: 0.25em;background-color: #f0f8ff;}#sk-container-id-6 input.sk-toggleable__control:checked~div.sk-toggleable__content {max-height: 200px;max-width: 100%;overflow: auto;}#sk-container-id-6 input.sk-toggleable__control:checked~label.sk-toggleable__label-arrow:before {content: \"▾\";}#sk-container-id-6 div.sk-estimator input.sk-toggleable__control:checked~label.sk-toggleable__label {background-color: #d4ebff;}#sk-container-id-6 div.sk-label input.sk-toggleable__control:checked~label.sk-toggleable__label {background-color: #d4ebff;}#sk-container-id-6 input.sk-hidden--visually {border: 0;clip: rect(1px 1px 1px 1px);clip: rect(1px, 1px, 1px, 1px);height: 1px;margin: -1px;overflow: hidden;padding: 0;position: absolute;width: 1px;}#sk-container-id-6 div.sk-estimator {font-family: monospace;background-color: #f0f8ff;border: 1px dotted black;border-radius: 0.25em;box-sizing: border-box;margin-bottom: 0.5em;}#sk-container-id-6 div.sk-estimator:hover {background-color: #d4ebff;}#sk-container-id-6 div.sk-parallel-item::after {content: \"\";width: 100%;border-bottom: 1px solid gray;flex-grow: 1;}#sk-container-id-6 div.sk-label:hover label.sk-toggleable__label {background-color: #d4ebff;}#sk-container-id-6 div.sk-serial::before {content: \"\";position: absolute;border-left: 1px solid gray;box-sizing: border-box;top: 0;bottom: 0;left: 50%;z-index: 0;}#sk-container-id-6 div.sk-serial {display: flex;flex-direction: column;align-items: center;background-color: white;padding-right: 0.2em;padding-left: 0.2em;position: relative;}#sk-container-id-6 div.sk-item {position: relative;z-index: 1;}#sk-container-id-6 div.sk-parallel {display: flex;align-items: stretch;justify-content: center;background-color: white;position: relative;}#sk-container-id-6 div.sk-item::before, #sk-container-id-6 div.sk-parallel-item::before {content: \"\";position: absolute;border-left: 1px solid gray;box-sizing: border-box;top: 0;bottom: 0;left: 50%;z-index: -1;}#sk-container-id-6 div.sk-parallel-item {display: flex;flex-direction: column;z-index: 1;position: relative;background-color: white;}#sk-container-id-6 div.sk-parallel-item:first-child::after {align-self: flex-end;width: 50%;}#sk-container-id-6 div.sk-parallel-item:last-child::after {align-self: flex-start;width: 50%;}#sk-container-id-6 div.sk-parallel-item:only-child::after {width: 0;}#sk-container-id-6 div.sk-dashed-wrapped {border: 1px dashed gray;margin: 0 0.4em 0.5em 0.4em;box-sizing: border-box;padding-bottom: 0.4em;background-color: white;}#sk-container-id-6 div.sk-label label {font-family: monospace;font-weight: bold;display: inline-block;line-height: 1.2em;}#sk-container-id-6 div.sk-label-container {text-align: center;}#sk-container-id-6 div.sk-container {/* jupyter's `normalize.less` sets `[hidden] { display: none; }` but bootstrap.min.css set `[hidden] { display: none !important; }` so we also need the `!important` here to be able to override the default hidden behavior on the sphinx rendered scikit-learn.org. See: https://github.com/scikit-learn/scikit-learn/issues/21755 */display: inline-block !important;position: relative;}#sk-container-id-6 div.sk-text-repr-fallback {display: none;}</style><div id=\"sk-container-id-6\" class=\"sk-top-container\"><div class=\"sk-text-repr-fallback\"><pre>GridSearchCV(cv=KFold(n_splits=5, random_state=42, shuffle=True),\n",
       "             estimator=KNeighborsClassifier(),\n",
       "             param_grid={&#x27;metric&#x27;: [&#x27;minkowski&#x27;, &#x27;euclidean&#x27;, &#x27;manhattan&#x27;],\n",
       "                         &#x27;n_neighbors&#x27;: [22, 23, 24, 25],\n",
       "                         &#x27;weights&#x27;: [&#x27;uniform&#x27;]},\n",
       "             return_train_score=True, scoring=&#x27;accuracy&#x27;, verbose=3)</pre><b>In a Jupyter environment, please rerun this cell to show the HTML representation or trust the notebook. <br />On GitHub, the HTML representation is unable to render, please try loading this page with nbviewer.org.</b></div><div class=\"sk-container\" hidden><div class=\"sk-item sk-dashed-wrapped\"><div class=\"sk-label-container\"><div class=\"sk-label sk-toggleable\"><input class=\"sk-toggleable__control sk-hidden--visually\" id=\"sk-estimator-id-14\" type=\"checkbox\" ><label for=\"sk-estimator-id-14\" class=\"sk-toggleable__label sk-toggleable__label-arrow\">GridSearchCV</label><div class=\"sk-toggleable__content\"><pre>GridSearchCV(cv=KFold(n_splits=5, random_state=42, shuffle=True),\n",
       "             estimator=KNeighborsClassifier(),\n",
       "             param_grid={&#x27;metric&#x27;: [&#x27;minkowski&#x27;, &#x27;euclidean&#x27;, &#x27;manhattan&#x27;],\n",
       "                         &#x27;n_neighbors&#x27;: [22, 23, 24, 25],\n",
       "                         &#x27;weights&#x27;: [&#x27;uniform&#x27;]},\n",
       "             return_train_score=True, scoring=&#x27;accuracy&#x27;, verbose=3)</pre></div></div></div><div class=\"sk-parallel\"><div class=\"sk-parallel-item\"><div class=\"sk-item\"><div class=\"sk-label-container\"><div class=\"sk-label sk-toggleable\"><input class=\"sk-toggleable__control sk-hidden--visually\" id=\"sk-estimator-id-15\" type=\"checkbox\" ><label for=\"sk-estimator-id-15\" class=\"sk-toggleable__label sk-toggleable__label-arrow\">estimator: KNeighborsClassifier</label><div class=\"sk-toggleable__content\"><pre>KNeighborsClassifier()</pre></div></div></div><div class=\"sk-serial\"><div class=\"sk-item\"><div class=\"sk-estimator sk-toggleable\"><input class=\"sk-toggleable__control sk-hidden--visually\" id=\"sk-estimator-id-16\" type=\"checkbox\" ><label for=\"sk-estimator-id-16\" class=\"sk-toggleable__label sk-toggleable__label-arrow\">KNeighborsClassifier</label><div class=\"sk-toggleable__content\"><pre>KNeighborsClassifier()</pre></div></div></div></div></div></div></div></div></div></div>"
      ],
      "text/plain": [
       "GridSearchCV(cv=KFold(n_splits=5, random_state=42, shuffle=True),\n",
       "             estimator=KNeighborsClassifier(),\n",
       "             param_grid={'metric': ['minkowski', 'euclidean', 'manhattan'],\n",
       "                         'n_neighbors': [22, 23, 24, 25],\n",
       "                         'weights': ['uniform']},\n",
       "             return_train_score=True, scoring='accuracy', verbose=3)"
      ]
     },
     "execution_count": 38,
     "metadata": {},
     "output_type": "execute_result"
    }
   ],
   "source": [
    "grid = GridSearchCV(\n",
    "    KNeighborsClassifier(),\n",
    "    param_grid=params,\n",
    "    scoring='accuracy',\n",
    "    cv=KFold(5, shuffle=True, random_state=42),\n",
    "    verbose=3,\n",
    "    return_train_score=True\n",
    ")\n",
    "grid.fit(X_train, y_train)"
   ]
  },
  {
   "cell_type": "code",
   "execution_count": 41,
   "id": "a750c516",
   "metadata": {},
   "outputs": [
    {
     "data": {
      "text/plain": [
       "mean_train_score    0.802053\n",
       "std_train_score     0.000836\n",
       "mean_test_score     0.784771\n",
       "std_test_score      0.007396\n",
       "Name: 9, dtype: float64"
      ]
     },
     "execution_count": 41,
     "metadata": {},
     "output_type": "execute_result"
    }
   ],
   "source": [
    "pd.DataFrame(grid.cv_results_)[['mean_train_score','std_train_score','mean_test_score','std_test_score']].loc[grid.best_index_]"
   ]
  },
  {
   "cell_type": "code",
   "execution_count": 43,
   "id": "2529a5bc",
   "metadata": {},
   "outputs": [
    {
     "data": {
      "text/plain": [
       "{'metric': 'manhattan', 'n_neighbors': 23, 'weights': 'uniform'}"
      ]
     },
     "execution_count": 43,
     "metadata": {},
     "output_type": "execute_result"
    }
   ],
   "source": [
    "grid.best_params_"
   ]
  },
  {
   "cell_type": "code",
   "execution_count": 44,
   "id": "5857ebee",
   "metadata": {},
   "outputs": [
    {
     "data": {
      "text/html": [
       "<style>#sk-container-id-7 {color: black;background-color: white;}#sk-container-id-7 pre{padding: 0;}#sk-container-id-7 div.sk-toggleable {background-color: white;}#sk-container-id-7 label.sk-toggleable__label {cursor: pointer;display: block;width: 100%;margin-bottom: 0;padding: 0.3em;box-sizing: border-box;text-align: center;}#sk-container-id-7 label.sk-toggleable__label-arrow:before {content: \"▸\";float: left;margin-right: 0.25em;color: #696969;}#sk-container-id-7 label.sk-toggleable__label-arrow:hover:before {color: black;}#sk-container-id-7 div.sk-estimator:hover label.sk-toggleable__label-arrow:before {color: black;}#sk-container-id-7 div.sk-toggleable__content {max-height: 0;max-width: 0;overflow: hidden;text-align: left;background-color: #f0f8ff;}#sk-container-id-7 div.sk-toggleable__content pre {margin: 0.2em;color: black;border-radius: 0.25em;background-color: #f0f8ff;}#sk-container-id-7 input.sk-toggleable__control:checked~div.sk-toggleable__content {max-height: 200px;max-width: 100%;overflow: auto;}#sk-container-id-7 input.sk-toggleable__control:checked~label.sk-toggleable__label-arrow:before {content: \"▾\";}#sk-container-id-7 div.sk-estimator input.sk-toggleable__control:checked~label.sk-toggleable__label {background-color: #d4ebff;}#sk-container-id-7 div.sk-label input.sk-toggleable__control:checked~label.sk-toggleable__label {background-color: #d4ebff;}#sk-container-id-7 input.sk-hidden--visually {border: 0;clip: rect(1px 1px 1px 1px);clip: rect(1px, 1px, 1px, 1px);height: 1px;margin: -1px;overflow: hidden;padding: 0;position: absolute;width: 1px;}#sk-container-id-7 div.sk-estimator {font-family: monospace;background-color: #f0f8ff;border: 1px dotted black;border-radius: 0.25em;box-sizing: border-box;margin-bottom: 0.5em;}#sk-container-id-7 div.sk-estimator:hover {background-color: #d4ebff;}#sk-container-id-7 div.sk-parallel-item::after {content: \"\";width: 100%;border-bottom: 1px solid gray;flex-grow: 1;}#sk-container-id-7 div.sk-label:hover label.sk-toggleable__label {background-color: #d4ebff;}#sk-container-id-7 div.sk-serial::before {content: \"\";position: absolute;border-left: 1px solid gray;box-sizing: border-box;top: 0;bottom: 0;left: 50%;z-index: 0;}#sk-container-id-7 div.sk-serial {display: flex;flex-direction: column;align-items: center;background-color: white;padding-right: 0.2em;padding-left: 0.2em;position: relative;}#sk-container-id-7 div.sk-item {position: relative;z-index: 1;}#sk-container-id-7 div.sk-parallel {display: flex;align-items: stretch;justify-content: center;background-color: white;position: relative;}#sk-container-id-7 div.sk-item::before, #sk-container-id-7 div.sk-parallel-item::before {content: \"\";position: absolute;border-left: 1px solid gray;box-sizing: border-box;top: 0;bottom: 0;left: 50%;z-index: -1;}#sk-container-id-7 div.sk-parallel-item {display: flex;flex-direction: column;z-index: 1;position: relative;background-color: white;}#sk-container-id-7 div.sk-parallel-item:first-child::after {align-self: flex-end;width: 50%;}#sk-container-id-7 div.sk-parallel-item:last-child::after {align-self: flex-start;width: 50%;}#sk-container-id-7 div.sk-parallel-item:only-child::after {width: 0;}#sk-container-id-7 div.sk-dashed-wrapped {border: 1px dashed gray;margin: 0 0.4em 0.5em 0.4em;box-sizing: border-box;padding-bottom: 0.4em;background-color: white;}#sk-container-id-7 div.sk-label label {font-family: monospace;font-weight: bold;display: inline-block;line-height: 1.2em;}#sk-container-id-7 div.sk-label-container {text-align: center;}#sk-container-id-7 div.sk-container {/* jupyter's `normalize.less` sets `[hidden] { display: none; }` but bootstrap.min.css set `[hidden] { display: none !important; }` so we also need the `!important` here to be able to override the default hidden behavior on the sphinx rendered scikit-learn.org. See: https://github.com/scikit-learn/scikit-learn/issues/21755 */display: inline-block !important;position: relative;}#sk-container-id-7 div.sk-text-repr-fallback {display: none;}</style><div id=\"sk-container-id-7\" class=\"sk-top-container\"><div class=\"sk-text-repr-fallback\"><pre>KNeighborsClassifier(metric=&#x27;manhattan&#x27;, n_neighbors=23)</pre><b>In a Jupyter environment, please rerun this cell to show the HTML representation or trust the notebook. <br />On GitHub, the HTML representation is unable to render, please try loading this page with nbviewer.org.</b></div><div class=\"sk-container\" hidden><div class=\"sk-item\"><div class=\"sk-estimator sk-toggleable\"><input class=\"sk-toggleable__control sk-hidden--visually\" id=\"sk-estimator-id-17\" type=\"checkbox\" checked><label for=\"sk-estimator-id-17\" class=\"sk-toggleable__label sk-toggleable__label-arrow\">KNeighborsClassifier</label><div class=\"sk-toggleable__content\"><pre>KNeighborsClassifier(metric=&#x27;manhattan&#x27;, n_neighbors=23)</pre></div></div></div></div></div>"
      ],
      "text/plain": [
       "KNeighborsClassifier(metric='manhattan', n_neighbors=23)"
      ]
     },
     "execution_count": 44,
     "metadata": {},
     "output_type": "execute_result"
    }
   ],
   "source": [
    "model = grid.best_estimator_\n",
    "model.fit(X_train, y_train)"
   ]
  },
  {
   "cell_type": "markdown",
   "id": "3edcf3b9",
   "metadata": {},
   "source": [
    "## Cross Validation"
   ]
  },
  {
   "cell_type": "markdown",
   "id": "dfdddf09",
   "metadata": {},
   "source": [
    "# Submission"
   ]
  },
  {
   "cell_type": "code",
   "execution_count": 48,
   "id": "d8195672",
   "metadata": {},
   "outputs": [
    {
     "data": {
      "text/html": [
       "<div>\n",
       "<style scoped>\n",
       "    .dataframe tbody tr th:only-of-type {\n",
       "        vertical-align: middle;\n",
       "    }\n",
       "\n",
       "    .dataframe tbody tr th {\n",
       "        vertical-align: top;\n",
       "    }\n",
       "\n",
       "    .dataframe thead th {\n",
       "        text-align: right;\n",
       "    }\n",
       "</style>\n",
       "<table border=\"1\" class=\"dataframe\">\n",
       "  <thead>\n",
       "    <tr style=\"text-align: right;\">\n",
       "      <th></th>\n",
       "      <th>CryoSleep</th>\n",
       "      <th>Age</th>\n",
       "      <th>VIP</th>\n",
       "      <th>RoomService</th>\n",
       "      <th>FoodCourt</th>\n",
       "      <th>ShoppingMall</th>\n",
       "      <th>Spa</th>\n",
       "      <th>VRDeck</th>\n",
       "      <th>0_bills</th>\n",
       "      <th>HomePlanet_Europa</th>\n",
       "      <th>HomePlanet_Mars</th>\n",
       "      <th>Destination_PSO J318.5-22</th>\n",
       "      <th>Destination_TRAPPIST-1e</th>\n",
       "      <th>Deck_B</th>\n",
       "      <th>Deck_C</th>\n",
       "      <th>Deck_D</th>\n",
       "      <th>Deck_E</th>\n",
       "      <th>Deck_F</th>\n",
       "      <th>Deck_G</th>\n",
       "    </tr>\n",
       "    <tr>\n",
       "      <th>PassengerId</th>\n",
       "      <th></th>\n",
       "      <th></th>\n",
       "      <th></th>\n",
       "      <th></th>\n",
       "      <th></th>\n",
       "      <th></th>\n",
       "      <th></th>\n",
       "      <th></th>\n",
       "      <th></th>\n",
       "      <th></th>\n",
       "      <th></th>\n",
       "      <th></th>\n",
       "      <th></th>\n",
       "      <th></th>\n",
       "      <th></th>\n",
       "      <th></th>\n",
       "      <th></th>\n",
       "      <th></th>\n",
       "      <th></th>\n",
       "    </tr>\n",
       "  </thead>\n",
       "  <tbody>\n",
       "    <tr>\n",
       "      <th>0013_01</th>\n",
       "      <td>1.330443</td>\n",
       "      <td>-0.114147</td>\n",
       "      <td>-0.132689</td>\n",
       "      <td>-0.64483</td>\n",
       "      <td>-0.646513</td>\n",
       "      <td>-0.628742</td>\n",
       "      <td>-0.661615</td>\n",
       "      <td>-0.624214</td>\n",
       "      <td>1.170830</td>\n",
       "      <td>-0.553131</td>\n",
       "      <td>-0.525314</td>\n",
       "      <td>-0.315862</td>\n",
       "      <td>0.634992</td>\n",
       "      <td>-0.30408</td>\n",
       "      <td>-0.300857</td>\n",
       "      <td>-0.244898</td>\n",
       "      <td>-0.341629</td>\n",
       "      <td>-0.714311</td>\n",
       "      <td>1.490179</td>\n",
       "    </tr>\n",
       "    <tr>\n",
       "      <th>0018_01</th>\n",
       "      <td>-0.751630</td>\n",
       "      <td>-0.684313</td>\n",
       "      <td>-0.132689</td>\n",
       "      <td>-0.64483</td>\n",
       "      <td>0.140685</td>\n",
       "      <td>-0.628742</td>\n",
       "      <td>2.226792</td>\n",
       "      <td>-0.624214</td>\n",
       "      <td>-0.854095</td>\n",
       "      <td>-0.553131</td>\n",
       "      <td>-0.525314</td>\n",
       "      <td>-0.315862</td>\n",
       "      <td>0.634992</td>\n",
       "      <td>-0.30408</td>\n",
       "      <td>-0.300857</td>\n",
       "      <td>-0.244898</td>\n",
       "      <td>-0.341629</td>\n",
       "      <td>1.399951</td>\n",
       "      <td>-0.671060</td>\n",
       "    </tr>\n",
       "  </tbody>\n",
       "</table>\n",
       "</div>"
      ],
      "text/plain": [
       "             CryoSleep       Age       VIP  RoomService  FoodCourt  \\\n",
       "PassengerId                                                          \n",
       "0013_01       1.330443 -0.114147 -0.132689     -0.64483  -0.646513   \n",
       "0018_01      -0.751630 -0.684313 -0.132689     -0.64483   0.140685   \n",
       "\n",
       "             ShoppingMall       Spa    VRDeck   0_bills  HomePlanet_Europa  \\\n",
       "PassengerId                                                                  \n",
       "0013_01         -0.628742 -0.661615 -0.624214  1.170830          -0.553131   \n",
       "0018_01         -0.628742  2.226792 -0.624214 -0.854095          -0.553131   \n",
       "\n",
       "             HomePlanet_Mars  Destination_PSO J318.5-22  \\\n",
       "PassengerId                                               \n",
       "0013_01            -0.525314                  -0.315862   \n",
       "0018_01            -0.525314                  -0.315862   \n",
       "\n",
       "             Destination_TRAPPIST-1e   Deck_B    Deck_C    Deck_D    Deck_E  \\\n",
       "PassengerId                                                                   \n",
       "0013_01                     0.634992 -0.30408 -0.300857 -0.244898 -0.341629   \n",
       "0018_01                     0.634992 -0.30408 -0.300857 -0.244898 -0.341629   \n",
       "\n",
       "               Deck_F    Deck_G  \n",
       "PassengerId                      \n",
       "0013_01     -0.714311  1.490179  \n",
       "0018_01      1.399951 -0.671060  "
      ]
     },
     "execution_count": 48,
     "metadata": {},
     "output_type": "execute_result"
    }
   ],
   "source": [
    "X_test = treat_dataset(df_test)\n",
    "X_test = feature_enginnering(X_test)\n",
    "X_test = pd.DataFrame(scaler.fit_transform(X_test), index=X_test.index, columns=X_test.columns)\n",
    "X_test.head(2)"
   ]
  },
  {
   "cell_type": "code",
   "execution_count": 49,
   "id": "ee978bc1",
   "metadata": {},
   "outputs": [],
   "source": [
    "y_test = model.predict(X_test)"
   ]
  },
  {
   "cell_type": "code",
   "execution_count": 50,
   "id": "ccf5924b",
   "metadata": {},
   "outputs": [],
   "source": [
    "submission = pd.Series(y_test, index=[X_test.index]).to_frame('Transported')\n",
    "submission.to_csv('data/submission_knn_2022-11-05.csv')"
   ]
  },
  {
   "cell_type": "code",
   "execution_count": null,
   "id": "3dca7f15",
   "metadata": {},
   "outputs": [],
   "source": [
    "su"
   ]
  }
 ],
 "metadata": {
  "kernelspec": {
   "display_name": "Python 3 (ipykernel)",
   "language": "python",
   "name": "python3"
  },
  "language_info": {
   "codemirror_mode": {
    "name": "ipython",
    "version": 3
   },
   "file_extension": ".py",
   "mimetype": "text/x-python",
   "name": "python",
   "nbconvert_exporter": "python",
   "pygments_lexer": "ipython3",
   "version": "3.9.2"
  },
  "toc": {
   "base_numbering": 1,
   "nav_menu": {},
   "number_sections": true,
   "sideBar": true,
   "skip_h1_title": false,
   "title_cell": "Table of Contents",
   "title_sidebar": "Contents",
   "toc_cell": false,
   "toc_position": {},
   "toc_section_display": true,
   "toc_window_display": false
  }
 },
 "nbformat": 4,
 "nbformat_minor": 5
}
