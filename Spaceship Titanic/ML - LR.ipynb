{
 "cells": [
  {
   "cell_type": "markdown",
   "id": "2b583315",
   "metadata": {},
   "source": [
    "# K-NN\n",
    "\n",
    "refs: \n",
    "    \n",
    "- PCA: https://towardsdatascience.com/pca-using-python-scikit-learn-e653f8989e60"
   ]
  },
  {
   "cell_type": "code",
   "execution_count": 5,
   "id": "06342da6",
   "metadata": {},
   "outputs": [],
   "source": [
    "import pandas as pd\n",
    "import numpy as np\n",
    "from sklearn.model_selection import train_test_split\n",
    "from sklearn.linear_model import LogisticRegression\n",
    "from sklearn.metrics import classification_report\n",
    "from sklearn.model_selection import KFold, GridSearchCV, cross_validate\n",
    "from sklearn.pipeline import Pipeline\n",
    "from sklearn.preprocessing import MinMaxScaler\n",
    "from sklearn.feature_selection import SelectKBest, chi2\n",
    "from spaceship_titanic import feature_enginnering as fe"
   ]
  },
  {
   "cell_type": "code",
   "execution_count": 2,
   "id": "970b1c3f",
   "metadata": {},
   "outputs": [
    {
     "data": {
      "text/html": [
       "<div>\n",
       "<style scoped>\n",
       "    .dataframe tbody tr th:only-of-type {\n",
       "        vertical-align: middle;\n",
       "    }\n",
       "\n",
       "    .dataframe tbody tr th {\n",
       "        vertical-align: top;\n",
       "    }\n",
       "\n",
       "    .dataframe thead th {\n",
       "        text-align: right;\n",
       "    }\n",
       "</style>\n",
       "<table border=\"1\" class=\"dataframe\">\n",
       "  <thead>\n",
       "    <tr style=\"text-align: right;\">\n",
       "      <th></th>\n",
       "      <th>HomePlanet</th>\n",
       "      <th>CryoSleep</th>\n",
       "      <th>Cabin</th>\n",
       "      <th>Destination</th>\n",
       "      <th>Age</th>\n",
       "      <th>VIP</th>\n",
       "      <th>RoomService</th>\n",
       "      <th>FoodCourt</th>\n",
       "      <th>ShoppingMall</th>\n",
       "      <th>Spa</th>\n",
       "      <th>VRDeck</th>\n",
       "      <th>Name</th>\n",
       "      <th>Transported</th>\n",
       "    </tr>\n",
       "    <tr>\n",
       "      <th>PassengerId</th>\n",
       "      <th></th>\n",
       "      <th></th>\n",
       "      <th></th>\n",
       "      <th></th>\n",
       "      <th></th>\n",
       "      <th></th>\n",
       "      <th></th>\n",
       "      <th></th>\n",
       "      <th></th>\n",
       "      <th></th>\n",
       "      <th></th>\n",
       "      <th></th>\n",
       "      <th></th>\n",
       "    </tr>\n",
       "  </thead>\n",
       "  <tbody>\n",
       "    <tr>\n",
       "      <th>0001_01</th>\n",
       "      <td>Europa</td>\n",
       "      <td>False</td>\n",
       "      <td>B/0/P</td>\n",
       "      <td>TRAPPIST-1e</td>\n",
       "      <td>39.0</td>\n",
       "      <td>False</td>\n",
       "      <td>0.0</td>\n",
       "      <td>0.0</td>\n",
       "      <td>0.0</td>\n",
       "      <td>0.0</td>\n",
       "      <td>0.0</td>\n",
       "      <td>Maham Ofracculy</td>\n",
       "      <td>False</td>\n",
       "    </tr>\n",
       "    <tr>\n",
       "      <th>0002_01</th>\n",
       "      <td>Earth</td>\n",
       "      <td>False</td>\n",
       "      <td>F/0/S</td>\n",
       "      <td>TRAPPIST-1e</td>\n",
       "      <td>24.0</td>\n",
       "      <td>False</td>\n",
       "      <td>109.0</td>\n",
       "      <td>9.0</td>\n",
       "      <td>25.0</td>\n",
       "      <td>549.0</td>\n",
       "      <td>44.0</td>\n",
       "      <td>Juanna Vines</td>\n",
       "      <td>True</td>\n",
       "    </tr>\n",
       "  </tbody>\n",
       "</table>\n",
       "</div>"
      ],
      "text/plain": [
       "            HomePlanet CryoSleep  Cabin  Destination   Age    VIP  \\\n",
       "PassengerId                                                         \n",
       "0001_01         Europa     False  B/0/P  TRAPPIST-1e  39.0  False   \n",
       "0002_01          Earth     False  F/0/S  TRAPPIST-1e  24.0  False   \n",
       "\n",
       "             RoomService  FoodCourt  ShoppingMall    Spa  VRDeck  \\\n",
       "PassengerId                                                        \n",
       "0001_01              0.0        0.0           0.0    0.0     0.0   \n",
       "0002_01            109.0        9.0          25.0  549.0    44.0   \n",
       "\n",
       "                        Name  Transported  \n",
       "PassengerId                                \n",
       "0001_01      Maham Ofracculy        False  \n",
       "0002_01         Juanna Vines         True  "
      ]
     },
     "execution_count": 2,
     "metadata": {},
     "output_type": "execute_result"
    }
   ],
   "source": [
    "df_train = pd.read_csv(\"data/train.csv\", index_col='PassengerId')\n",
    "df_test = pd.read_csv(\"data/test.csv\", index_col='PassengerId')\n",
    "df_train.head(2)"
   ]
  },
  {
   "cell_type": "markdown",
   "id": "b188cf47",
   "metadata": {},
   "source": [
    "# Data Treatment"
   ]
  },
  {
   "cell_type": "code",
   "execution_count": 3,
   "id": "fcdb7836",
   "metadata": {},
   "outputs": [],
   "source": [
    "def treat_dataset(df:pd.DataFrame) -> pd.DataFrame:\n",
    "    df = df.drop(['Name'],axis=1)\n",
    "    df = fe.fillna_homeplanet_and_destination(df)\n",
    "    df = fe.fill_with_0_people_with_no_other_wastes(df)\n",
    "    df = fe.fill_0_wastes_people_cryosleep(df)\n",
    "    df = fe.fill_with_non_0_median(df)\n",
    "    df = fe.fill_cryosleep(df)\n",
    "    df = fe.feature_inputer(df, to_mode=[], to_median=['Age'])\n",
    "    df = fe.cabin_inputer(df)\n",
    "    df = fe.vip_knn_input(df)\n",
    "    df['TotalService'] = df[['RoomService', 'FoodCourt', 'ShoppingMall', 'Spa', 'VRDeck']].sum(axis=1)\n",
    "    df = fe.outliers_to_log(df, ['TotalService','RoomService', 'FoodCourt', 'ShoppingMall', 'Spa', 'VRDeck'])\n",
    "    df = fe.dtype_memory_reducer(df)\n",
    "    return df\n",
    "def feature_enginnering(df: pd.DataFrame) -> pd.DataFrame:\n",
    "    df['Deck'] = df['Deck'].map(dict(zip(['A', 'B', 'C', 'D', 'E', 'F', 'G'],[1,2,3,4,5,6,7])))\n",
    "    df = pd.get_dummies(df,columns=['HomePlanet','Destination','Side'],drop_first=True)\n",
    "    return df\n",
    "\n",
    "def train_test_treatments(df, full_df):\n",
    "    df['GroupSize'] = fe.calculate_groupsize(df.index, full_df.index)\n",
    "    df['GroupLastNameSize'] = fe.calculate_group_lastname_size(df.index, full_df)\n",
    "    df.drop(['Side_U','VIP'],axis=1, inplace=True)\n",
    "    return df"
   ]
  },
  {
   "cell_type": "code",
   "execution_count": 4,
   "id": "cdb583fb",
   "metadata": {},
   "outputs": [],
   "source": [
    "df = treat_dataset(df_train.copy())\n",
    "df = feature_enginnering(df)\n",
    "df = train_test_treatments(df, pd.concat([df_train,df_test]))"
   ]
  },
  {
   "cell_type": "code",
   "execution_count": 6,
   "id": "47f261e4",
   "metadata": {},
   "outputs": [],
   "source": [
    "X, y = df.drop('Transported',axis=1), df['Transported']\n",
    "X_train, X_val, y_train, y_val = train_test_split(\n",
    "    X, y,\n",
    "    test_size=0.2,\n",
    "    random_state=42\n",
    ")"
   ]
  },
  {
   "cell_type": "code",
   "execution_count": 8,
   "id": "93848ce5",
   "metadata": {},
   "outputs": [],
   "source": [
    "pipeline = Pipeline([\n",
    "    ('scaler', MinMaxScaler()),\n",
    "    ('skb', SelectKBest(chi2, k = 10)),\n",
    "    ('model', LogisticRegression())\n",
    "])"
   ]
  },
  {
   "cell_type": "markdown",
   "id": "b89fa378",
   "metadata": {},
   "source": [
    "## Tuning"
   ]
  },
  {
   "cell_type": "code",
   "execution_count": 12,
   "id": "0debe86d",
   "metadata": {},
   "outputs": [],
   "source": [
    "params = {\n",
    "    'skb__k':[5, 7, 9, 11, 13, 15, 17],\n",
    "}"
   ]
  },
  {
   "cell_type": "code",
   "execution_count": 13,
   "id": "50c854fb",
   "metadata": {},
   "outputs": [
    {
     "name": "stdout",
     "output_type": "stream",
     "text": [
      "Fitting 5 folds for each of 7 candidates, totalling 35 fits\n",
      "[CV 1/5] END ......skb__k=5;, score=(train=0.768, test=0.774) total time=   0.0s\n",
      "[CV 2/5] END ......skb__k=5;, score=(train=0.767, test=0.775) total time=   0.0s\n",
      "[CV 3/5] END ......skb__k=5;, score=(train=0.773, test=0.754) total time=   0.0s\n",
      "[CV 4/5] END ......skb__k=5;, score=(train=0.766, test=0.779) total time=   0.0s\n",
      "[CV 5/5] END ......skb__k=5;, score=(train=0.770, test=0.763) total time=   0.0s\n",
      "[CV 1/5] END ......skb__k=7;, score=(train=0.773, test=0.774) total time=   0.0s\n",
      "[CV 2/5] END ......skb__k=7;, score=(train=0.772, test=0.779) total time=   0.0s\n",
      "[CV 3/5] END ......skb__k=7;, score=(train=0.777, test=0.757) total time=   0.0s\n",
      "[CV 4/5] END ......skb__k=7;, score=(train=0.771, test=0.785) total time=   0.0s\n",
      "[CV 5/5] END ......skb__k=7;, score=(train=0.774, test=0.767) total time=   0.0s\n",
      "[CV 1/5] END ......skb__k=9;, score=(train=0.783, test=0.771) total time=   0.0s\n",
      "[CV 2/5] END ......skb__k=9;, score=(train=0.781, test=0.784) total time=   0.0s\n",
      "[CV 3/5] END ......skb__k=9;, score=(train=0.783, test=0.769) total time=   0.0s\n",
      "[CV 4/5] END ......skb__k=9;, score=(train=0.779, test=0.789) total time=   0.0s\n",
      "[CV 5/5] END ......skb__k=9;, score=(train=0.781, test=0.780) total time=   0.0s\n",
      "[CV 1/5] END .....skb__k=11;, score=(train=0.783, test=0.773) total time=   0.0s\n",
      "[CV 2/5] END .....skb__k=11;, score=(train=0.781, test=0.786) total time=   0.0s\n",
      "[CV 3/5] END .....skb__k=11;, score=(train=0.783, test=0.770) total time=   0.0s\n",
      "[CV 4/5] END .....skb__k=11;, score=(train=0.781, test=0.785) total time=   0.0s\n",
      "[CV 5/5] END .....skb__k=11;, score=(train=0.781, test=0.778) total time=   0.0s\n",
      "[CV 1/5] END .....skb__k=13;, score=(train=0.782, test=0.769) total time=   0.0s\n",
      "[CV 2/5] END .....skb__k=13;, score=(train=0.779, test=0.789) total time=   0.0s\n",
      "[CV 3/5] END .....skb__k=13;, score=(train=0.785, test=0.779) total time=   0.0s\n",
      "[CV 4/5] END .....skb__k=13;, score=(train=0.780, test=0.789) total time=   0.0s\n",
      "[CV 5/5] END .....skb__k=13;, score=(train=0.781, test=0.782) total time=   0.0s\n",
      "[CV 1/5] END .....skb__k=15;, score=(train=0.784, test=0.770) total time=   0.0s\n",
      "[CV 2/5] END .....skb__k=15;, score=(train=0.780, test=0.786) total time=   0.0s\n",
      "[CV 3/5] END .....skb__k=15;, score=(train=0.781, test=0.773) total time=   0.0s\n",
      "[CV 4/5] END .....skb__k=15;, score=(train=0.779, test=0.786) total time=   0.0s\n",
      "[CV 5/5] END .....skb__k=15;, score=(train=0.778, test=0.782) total time=   0.0s\n",
      "[CV 1/5] END .....skb__k=17;, score=(train=0.784, test=0.767) total time=   0.0s\n",
      "[CV 2/5] END .....skb__k=17;, score=(train=0.781, test=0.790) total time=   0.0s\n",
      "[CV 3/5] END .....skb__k=17;, score=(train=0.783, test=0.774) total time=   0.0s\n",
      "[CV 4/5] END .....skb__k=17;, score=(train=0.779, test=0.785) total time=   0.0s\n",
      "[CV 5/5] END .....skb__k=17;, score=(train=0.779, test=0.780) total time=   0.0s\n"
     ]
    },
    {
     "data": {
      "text/html": [
       "<style>#sk-container-id-2 {color: black;background-color: white;}#sk-container-id-2 pre{padding: 0;}#sk-container-id-2 div.sk-toggleable {background-color: white;}#sk-container-id-2 label.sk-toggleable__label {cursor: pointer;display: block;width: 100%;margin-bottom: 0;padding: 0.3em;box-sizing: border-box;text-align: center;}#sk-container-id-2 label.sk-toggleable__label-arrow:before {content: \"▸\";float: left;margin-right: 0.25em;color: #696969;}#sk-container-id-2 label.sk-toggleable__label-arrow:hover:before {color: black;}#sk-container-id-2 div.sk-estimator:hover label.sk-toggleable__label-arrow:before {color: black;}#sk-container-id-2 div.sk-toggleable__content {max-height: 0;max-width: 0;overflow: hidden;text-align: left;background-color: #f0f8ff;}#sk-container-id-2 div.sk-toggleable__content pre {margin: 0.2em;color: black;border-radius: 0.25em;background-color: #f0f8ff;}#sk-container-id-2 input.sk-toggleable__control:checked~div.sk-toggleable__content {max-height: 200px;max-width: 100%;overflow: auto;}#sk-container-id-2 input.sk-toggleable__control:checked~label.sk-toggleable__label-arrow:before {content: \"▾\";}#sk-container-id-2 div.sk-estimator input.sk-toggleable__control:checked~label.sk-toggleable__label {background-color: #d4ebff;}#sk-container-id-2 div.sk-label input.sk-toggleable__control:checked~label.sk-toggleable__label {background-color: #d4ebff;}#sk-container-id-2 input.sk-hidden--visually {border: 0;clip: rect(1px 1px 1px 1px);clip: rect(1px, 1px, 1px, 1px);height: 1px;margin: -1px;overflow: hidden;padding: 0;position: absolute;width: 1px;}#sk-container-id-2 div.sk-estimator {font-family: monospace;background-color: #f0f8ff;border: 1px dotted black;border-radius: 0.25em;box-sizing: border-box;margin-bottom: 0.5em;}#sk-container-id-2 div.sk-estimator:hover {background-color: #d4ebff;}#sk-container-id-2 div.sk-parallel-item::after {content: \"\";width: 100%;border-bottom: 1px solid gray;flex-grow: 1;}#sk-container-id-2 div.sk-label:hover label.sk-toggleable__label {background-color: #d4ebff;}#sk-container-id-2 div.sk-serial::before {content: \"\";position: absolute;border-left: 1px solid gray;box-sizing: border-box;top: 0;bottom: 0;left: 50%;z-index: 0;}#sk-container-id-2 div.sk-serial {display: flex;flex-direction: column;align-items: center;background-color: white;padding-right: 0.2em;padding-left: 0.2em;position: relative;}#sk-container-id-2 div.sk-item {position: relative;z-index: 1;}#sk-container-id-2 div.sk-parallel {display: flex;align-items: stretch;justify-content: center;background-color: white;position: relative;}#sk-container-id-2 div.sk-item::before, #sk-container-id-2 div.sk-parallel-item::before {content: \"\";position: absolute;border-left: 1px solid gray;box-sizing: border-box;top: 0;bottom: 0;left: 50%;z-index: -1;}#sk-container-id-2 div.sk-parallel-item {display: flex;flex-direction: column;z-index: 1;position: relative;background-color: white;}#sk-container-id-2 div.sk-parallel-item:first-child::after {align-self: flex-end;width: 50%;}#sk-container-id-2 div.sk-parallel-item:last-child::after {align-self: flex-start;width: 50%;}#sk-container-id-2 div.sk-parallel-item:only-child::after {width: 0;}#sk-container-id-2 div.sk-dashed-wrapped {border: 1px dashed gray;margin: 0 0.4em 0.5em 0.4em;box-sizing: border-box;padding-bottom: 0.4em;background-color: white;}#sk-container-id-2 div.sk-label label {font-family: monospace;font-weight: bold;display: inline-block;line-height: 1.2em;}#sk-container-id-2 div.sk-label-container {text-align: center;}#sk-container-id-2 div.sk-container {/* jupyter's `normalize.less` sets `[hidden] { display: none; }` but bootstrap.min.css set `[hidden] { display: none !important; }` so we also need the `!important` here to be able to override the default hidden behavior on the sphinx rendered scikit-learn.org. See: https://github.com/scikit-learn/scikit-learn/issues/21755 */display: inline-block !important;position: relative;}#sk-container-id-2 div.sk-text-repr-fallback {display: none;}</style><div id=\"sk-container-id-2\" class=\"sk-top-container\"><div class=\"sk-text-repr-fallback\"><pre>GridSearchCV(cv=KFold(n_splits=5, random_state=42, shuffle=True),\n",
       "             estimator=Pipeline(steps=[(&#x27;scaler&#x27;, MinMaxScaler()),\n",
       "                                       (&#x27;skb&#x27;,\n",
       "                                        SelectKBest(score_func=&lt;function chi2 at 0x0000027523771790&gt;)),\n",
       "                                       (&#x27;model&#x27;, LogisticRegression())]),\n",
       "             param_grid={&#x27;skb__k&#x27;: [5, 7, 9, 11, 13, 15, 17]},\n",
       "             return_train_score=True, scoring=&#x27;accuracy&#x27;, verbose=3)</pre><b>In a Jupyter environment, please rerun this cell to show the HTML representation or trust the notebook. <br />On GitHub, the HTML representation is unable to render, please try loading this page with nbviewer.org.</b></div><div class=\"sk-container\" hidden><div class=\"sk-item sk-dashed-wrapped\"><div class=\"sk-label-container\"><div class=\"sk-label sk-toggleable\"><input class=\"sk-toggleable__control sk-hidden--visually\" id=\"sk-estimator-id-6\" type=\"checkbox\" ><label for=\"sk-estimator-id-6\" class=\"sk-toggleable__label sk-toggleable__label-arrow\">GridSearchCV</label><div class=\"sk-toggleable__content\"><pre>GridSearchCV(cv=KFold(n_splits=5, random_state=42, shuffle=True),\n",
       "             estimator=Pipeline(steps=[(&#x27;scaler&#x27;, MinMaxScaler()),\n",
       "                                       (&#x27;skb&#x27;,\n",
       "                                        SelectKBest(score_func=&lt;function chi2 at 0x0000027523771790&gt;)),\n",
       "                                       (&#x27;model&#x27;, LogisticRegression())]),\n",
       "             param_grid={&#x27;skb__k&#x27;: [5, 7, 9, 11, 13, 15, 17]},\n",
       "             return_train_score=True, scoring=&#x27;accuracy&#x27;, verbose=3)</pre></div></div></div><div class=\"sk-parallel\"><div class=\"sk-parallel-item\"><div class=\"sk-item\"><div class=\"sk-label-container\"><div class=\"sk-label sk-toggleable\"><input class=\"sk-toggleable__control sk-hidden--visually\" id=\"sk-estimator-id-7\" type=\"checkbox\" ><label for=\"sk-estimator-id-7\" class=\"sk-toggleable__label sk-toggleable__label-arrow\">estimator: Pipeline</label><div class=\"sk-toggleable__content\"><pre>Pipeline(steps=[(&#x27;scaler&#x27;, MinMaxScaler()),\n",
       "                (&#x27;skb&#x27;,\n",
       "                 SelectKBest(score_func=&lt;function chi2 at 0x0000027523771790&gt;)),\n",
       "                (&#x27;model&#x27;, LogisticRegression())])</pre></div></div></div><div class=\"sk-serial\"><div class=\"sk-item\"><div class=\"sk-serial\"><div class=\"sk-item\"><div class=\"sk-estimator sk-toggleable\"><input class=\"sk-toggleable__control sk-hidden--visually\" id=\"sk-estimator-id-8\" type=\"checkbox\" ><label for=\"sk-estimator-id-8\" class=\"sk-toggleable__label sk-toggleable__label-arrow\">MinMaxScaler</label><div class=\"sk-toggleable__content\"><pre>MinMaxScaler()</pre></div></div></div><div class=\"sk-item\"><div class=\"sk-estimator sk-toggleable\"><input class=\"sk-toggleable__control sk-hidden--visually\" id=\"sk-estimator-id-9\" type=\"checkbox\" ><label for=\"sk-estimator-id-9\" class=\"sk-toggleable__label sk-toggleable__label-arrow\">SelectKBest</label><div class=\"sk-toggleable__content\"><pre>SelectKBest(score_func=&lt;function chi2 at 0x0000027523771790&gt;)</pre></div></div></div><div class=\"sk-item\"><div class=\"sk-estimator sk-toggleable\"><input class=\"sk-toggleable__control sk-hidden--visually\" id=\"sk-estimator-id-10\" type=\"checkbox\" ><label for=\"sk-estimator-id-10\" class=\"sk-toggleable__label sk-toggleable__label-arrow\">LogisticRegression</label><div class=\"sk-toggleable__content\"><pre>LogisticRegression()</pre></div></div></div></div></div></div></div></div></div></div></div></div>"
      ],
      "text/plain": [
       "GridSearchCV(cv=KFold(n_splits=5, random_state=42, shuffle=True),\n",
       "             estimator=Pipeline(steps=[('scaler', MinMaxScaler()),\n",
       "                                       ('skb',\n",
       "                                        SelectKBest(score_func=<function chi2 at 0x0000027523771790>)),\n",
       "                                       ('model', LogisticRegression())]),\n",
       "             param_grid={'skb__k': [5, 7, 9, 11, 13, 15, 17]},\n",
       "             return_train_score=True, scoring='accuracy', verbose=3)"
      ]
     },
     "execution_count": 13,
     "metadata": {},
     "output_type": "execute_result"
    }
   ],
   "source": [
    "grid = GridSearchCV(\n",
    "    pipeline,\n",
    "    param_grid=params,\n",
    "    scoring='accuracy',\n",
    "    cv=KFold(5, shuffle=True, random_state=42),\n",
    "    verbose=3,\n",
    "    return_train_score=True\n",
    ")\n",
    "grid.fit(X_train, y_train)"
   ]
  },
  {
   "cell_type": "code",
   "execution_count": 14,
   "id": "a750c516",
   "metadata": {},
   "outputs": [
    {
     "data": {
      "text/plain": [
       "mean_train_score    0.781385\n",
       "std_train_score     0.001910\n",
       "mean_test_score     0.781565\n",
       "std_test_score      0.007377\n",
       "Name: 4, dtype: float64"
      ]
     },
     "execution_count": 14,
     "metadata": {},
     "output_type": "execute_result"
    }
   ],
   "source": [
    "pd.DataFrame(grid.cv_results_)[['mean_train_score','std_train_score','mean_test_score','std_test_score']].loc[grid.best_index_]"
   ]
  },
  {
   "cell_type": "code",
   "execution_count": 15,
   "id": "2529a5bc",
   "metadata": {},
   "outputs": [
    {
     "data": {
      "text/plain": [
       "{'skb__k': 13}"
      ]
     },
     "execution_count": 15,
     "metadata": {},
     "output_type": "execute_result"
    }
   ],
   "source": [
    "grid.best_params_"
   ]
  },
  {
   "cell_type": "code",
   "execution_count": 17,
   "id": "5857ebee",
   "metadata": {},
   "outputs": [
    {
     "name": "stdout",
     "output_type": "stream",
     "text": [
      "              precision    recall  f1-score   support\n",
      "\n",
      "       False       0.78      0.74      0.76       861\n",
      "        True       0.76      0.80      0.78       878\n",
      "\n",
      "    accuracy                           0.77      1739\n",
      "   macro avg       0.77      0.77      0.77      1739\n",
      "weighted avg       0.77      0.77      0.77      1739\n",
      "\n"
     ]
    }
   ],
   "source": [
    "model = grid.best_estimator_\n",
    "print(classification_report(y_val, model.predict(X_val)))"
   ]
  },
  {
   "cell_type": "markdown",
   "id": "3edcf3b9",
   "metadata": {},
   "source": [
    "## Cross Validation"
   ]
  },
  {
   "cell_type": "markdown",
   "id": "dfdddf09",
   "metadata": {},
   "source": [
    "# Submission"
   ]
  },
  {
   "cell_type": "code",
   "execution_count": 44,
   "id": "d8195672",
   "metadata": {},
   "outputs": [
    {
     "data": {
      "text/html": [
       "<div>\n",
       "<style scoped>\n",
       "    .dataframe tbody tr th:only-of-type {\n",
       "        vertical-align: middle;\n",
       "    }\n",
       "\n",
       "    .dataframe tbody tr th {\n",
       "        vertical-align: top;\n",
       "    }\n",
       "\n",
       "    .dataframe thead th {\n",
       "        text-align: right;\n",
       "    }\n",
       "</style>\n",
       "<table border=\"1\" class=\"dataframe\">\n",
       "  <thead>\n",
       "    <tr style=\"text-align: right;\">\n",
       "      <th></th>\n",
       "      <th>CryoSleep</th>\n",
       "      <th>Age</th>\n",
       "      <th>RoomService</th>\n",
       "      <th>FoodCourt</th>\n",
       "      <th>ShoppingMall</th>\n",
       "      <th>Spa</th>\n",
       "      <th>VRDeck</th>\n",
       "      <th>Deck</th>\n",
       "      <th>Num</th>\n",
       "      <th>TotalService</th>\n",
       "      <th>HomePlanet_Europa</th>\n",
       "      <th>HomePlanet_Mars</th>\n",
       "      <th>Destination_PSO J318.5-22</th>\n",
       "      <th>Destination_TRAPPIST-1e</th>\n",
       "      <th>Side_S</th>\n",
       "      <th>GroupSize</th>\n",
       "      <th>GroupLastNameSize</th>\n",
       "    </tr>\n",
       "    <tr>\n",
       "      <th>PassengerId</th>\n",
       "      <th></th>\n",
       "      <th></th>\n",
       "      <th></th>\n",
       "      <th></th>\n",
       "      <th></th>\n",
       "      <th></th>\n",
       "      <th></th>\n",
       "      <th></th>\n",
       "      <th></th>\n",
       "      <th></th>\n",
       "      <th></th>\n",
       "      <th></th>\n",
       "      <th></th>\n",
       "      <th></th>\n",
       "      <th></th>\n",
       "      <th></th>\n",
       "      <th></th>\n",
       "    </tr>\n",
       "  </thead>\n",
       "  <tbody>\n",
       "    <tr>\n",
       "      <th>0013_01</th>\n",
       "      <td>True</td>\n",
       "      <td>27.0</td>\n",
       "      <td>0.0</td>\n",
       "      <td>0.000000</td>\n",
       "      <td>0.0</td>\n",
       "      <td>0.000000</td>\n",
       "      <td>0.0</td>\n",
       "      <td>7</td>\n",
       "      <td>3</td>\n",
       "      <td>0.000000</td>\n",
       "      <td>0</td>\n",
       "      <td>0</td>\n",
       "      <td>0</td>\n",
       "      <td>1</td>\n",
       "      <td>1</td>\n",
       "      <td>1</td>\n",
       "      <td>1</td>\n",
       "    </tr>\n",
       "    <tr>\n",
       "      <th>0018_01</th>\n",
       "      <td>False</td>\n",
       "      <td>19.0</td>\n",
       "      <td>0.0</td>\n",
       "      <td>2.197225</td>\n",
       "      <td>0.0</td>\n",
       "      <td>7.945555</td>\n",
       "      <td>0.0</td>\n",
       "      <td>6</td>\n",
       "      <td>4</td>\n",
       "      <td>7.948738</td>\n",
       "      <td>0</td>\n",
       "      <td>0</td>\n",
       "      <td>0</td>\n",
       "      <td>1</td>\n",
       "      <td>1</td>\n",
       "      <td>1</td>\n",
       "      <td>1</td>\n",
       "    </tr>\n",
       "  </tbody>\n",
       "</table>\n",
       "</div>"
      ],
      "text/plain": [
       "             CryoSleep   Age  RoomService  FoodCourt  ShoppingMall       Spa  \\\n",
       "PassengerId                                                                    \n",
       "0013_01           True  27.0          0.0   0.000000           0.0  0.000000   \n",
       "0018_01          False  19.0          0.0   2.197225           0.0  7.945555   \n",
       "\n",
       "             VRDeck  Deck  Num  TotalService  HomePlanet_Europa  \\\n",
       "PassengerId                                                       \n",
       "0013_01         0.0     7    3      0.000000                  0   \n",
       "0018_01         0.0     6    4      7.948738                  0   \n",
       "\n",
       "             HomePlanet_Mars  Destination_PSO J318.5-22  \\\n",
       "PassengerId                                               \n",
       "0013_01                    0                          0   \n",
       "0018_01                    0                          0   \n",
       "\n",
       "             Destination_TRAPPIST-1e  Side_S  GroupSize  GroupLastNameSize  \n",
       "PassengerId                                                                 \n",
       "0013_01                            1       1          1                  1  \n",
       "0018_01                            1       1          1                  1  "
      ]
     },
     "execution_count": 44,
     "metadata": {},
     "output_type": "execute_result"
    }
   ],
   "source": [
    "X_test = treat_dataset(df_test.copy())\n",
    "X_test = feature_enginnering(X_test)\n",
    "X_test = train_test_treatments(X_test, pd.concat([df_train,df_test]))\n",
    "X_test.head(2)"
   ]
  },
  {
   "cell_type": "code",
   "execution_count": 49,
   "id": "ee978bc1",
   "metadata": {},
   "outputs": [],
   "source": [
    "y_test = model.predict(X_test)"
   ]
  },
  {
   "cell_type": "code",
   "execution_count": 50,
   "id": "ccf5924b",
   "metadata": {},
   "outputs": [],
   "source": [
    "submission = pd.Series(y_test, index=[X_test.index]).to_frame('Transported')\n",
    "submission.to_csv('data/submission_knn_2022-11-05.csv')"
   ]
  },
  {
   "cell_type": "markdown",
   "id": "4e2a9397",
   "metadata": {},
   "source": [
    "# To Ensemble"
   ]
  },
  {
   "cell_type": "code",
   "execution_count": 19,
   "id": "e56a11de",
   "metadata": {},
   "outputs": [],
   "source": [
    "df = pd.concat([df_train,df_test]).drop(['Transported'],axis=1)\n",
    "df = treat_dataset(df)\n",
    "df = feature_enginnering(df)\n",
    "df = train_test_treatments(df, pd.concat([df_train,df_test]))\n",
    "ensemble = model.predict_proba(df)\n",
    "ensemble = pd.Series(ensemble[:,1], index=[df.index]).to_frame('LR')\n",
    "ensemble.to_csv('data/ensemble/lr.csv')"
   ]
  },
  {
   "cell_type": "code",
   "execution_count": null,
   "id": "8cbb506b",
   "metadata": {},
   "outputs": [],
   "source": []
  }
 ],
 "metadata": {
  "kernelspec": {
   "display_name": "Python 3 (ipykernel)",
   "language": "python",
   "name": "python3"
  },
  "language_info": {
   "codemirror_mode": {
    "name": "ipython",
    "version": 3
   },
   "file_extension": ".py",
   "mimetype": "text/x-python",
   "name": "python",
   "nbconvert_exporter": "python",
   "pygments_lexer": "ipython3",
   "version": "3.9.2"
  },
  "toc": {
   "base_numbering": 1,
   "nav_menu": {},
   "number_sections": true,
   "sideBar": true,
   "skip_h1_title": false,
   "title_cell": "Table of Contents",
   "title_sidebar": "Contents",
   "toc_cell": false,
   "toc_position": {},
   "toc_section_display": true,
   "toc_window_display": false
  }
 },
 "nbformat": 4,
 "nbformat_minor": 5
}
